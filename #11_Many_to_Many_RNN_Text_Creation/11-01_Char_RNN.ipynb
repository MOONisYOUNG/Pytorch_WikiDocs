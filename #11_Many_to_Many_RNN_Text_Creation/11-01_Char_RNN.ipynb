{
 "cells": [
  {
   "cell_type": "markdown",
   "id": "1a26a21b",
   "metadata": {},
   "source": [
    "## 👉 11-01. 문자 단위 RNN (Char RNN)"
   ]
  },
  {
   "cell_type": "markdown",
   "id": "4e91c06c",
   "metadata": {},
   "source": [
    "* 다대다 RNN은 모든 시점에서 출력을 함.\n",
    "* 다대다 RNN은 품사 태깅, 개체명 인식 등에서 많이 사용됨."
   ]
  },
  {
   "cell_type": "markdown",
   "id": "eeb28561",
   "metadata": {},
   "source": [
    "## 1. 문자 단위 RNN (Char RNN)"
   ]
  },
  {
   "cell_type": "markdown",
   "id": "76e8532e",
   "metadata": {},
   "source": [
    "* RNN의 입출력 단위가 문자인 경우를 구현함."
   ]
  },
  {
   "cell_type": "code",
   "execution_count": 1,
   "id": "c973236d",
   "metadata": {},
   "outputs": [],
   "source": [
    "import torch\n",
    "import torch.nn as nn\n",
    "import torch.optim as optim\n",
    "import numpy as np"
   ]
  }
 ],
 "metadata": {
  "kernelspec": {
   "display_name": "Python 3 (ipykernel)",
   "language": "python",
   "name": "python3"
  },
  "language_info": {
   "codemirror_mode": {
    "name": "ipython",
    "version": 3
   },
   "file_extension": ".py",
   "mimetype": "text/x-python",
   "name": "python",
   "nbconvert_exporter": "python",
   "pygments_lexer": "ipython3",
   "version": "3.9.7"
  }
 },
 "nbformat": 4,
 "nbformat_minor": 5
}
