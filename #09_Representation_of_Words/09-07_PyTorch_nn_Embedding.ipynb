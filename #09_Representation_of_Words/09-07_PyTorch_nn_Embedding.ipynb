{
 "cells": [
  {
   "cell_type": "markdown",
   "id": "f13ca505",
   "metadata": {},
   "source": [
    "## 👉 09-07. 파이토치(PyTorch)의 nn.Embedding()"
   ]
  },
  {
   "cell_type": "markdown",
   "id": "d1e3f313",
   "metadata": {},
   "source": [
    "* 파이토치에서 임베딩을 사용하는 2가지 방법\n",
    "    * 첫 번째 방법 : Embedding Layer을 만들어서 직접 훈련시킨다.\n",
    "    * 두 번째 방법 : Pre-trained Word Embedding를 가져온다."
   ]
  },
  {
   "cell_type": "markdown",
   "id": "515a7e49",
   "metadata": {},
   "source": [
    "## 1. 임베딩 층은 룩업 테이블이다."
   ]
  },
  {
   "cell_type": "markdown",
   "id": "743ce341",
   "metadata": {},
   "source": [
    "* 특정 단어  단어에 부여된 → 고유한 정수값 → 임베딩 층(룩업 테이블) 통과 → 밀집 벡터"
   ]
  },
  {
   "cell_type": "code",
   "execution_count": 1,
   "id": "de2ff06d",
   "metadata": {},
   "outputs": [],
   "source": [
    "import torch"
   ]
  },
  {
   "cell_type": "code",
   "execution_count": 2,
   "id": "05397b1a",
   "metadata": {
    "scrolled": true
   },
   "outputs": [
    {
     "name": "stdout",
     "output_type": "stream",
     "text": [
      "{'know': 2, 'need': 3, 'you': 4, 'code': 5, 'to': 6, 'how': 7, '<unk>': 0, '<pad>': 1}\n"
     ]
    }
   ],
   "source": [
    "train_data = \"you need to know how to code\"\n",
    "\n",
    "word_set = set(train_data.split())\n",
    "\n",
    "vocab = {word : i+2 for i, word in enumerate(word_set)}\n",
    "vocab[\"<unk>\"] = 0\n",
    "vocab[\"<pad>\"] = 1\n",
    "print(vocab)"
   ]
  },
  {
   "cell_type": "code",
   "execution_count": 3,
   "id": "a449c625",
   "metadata": {},
   "outputs": [],
   "source": [
    "embedding_table = torch.FloatTensor([\n",
    "                               [ 0.0,  0.0,  0.0],\n",
    "                               [ 0.0,  0.0,  0.0],\n",
    "                               [ 0.2,  0.9,  0.3],\n",
    "                               [ 0.1,  0.5,  0.7],\n",
    "                               [ 0.2,  0.1,  0.8],\n",
    "                               [ 0.4,  0.1,  0.1],\n",
    "                               [ 0.1,  0.8,  0.9],\n",
    "                               [ 0.6,  0.1,  0.1]])"
   ]
  },
  {
   "cell_type": "code",
   "execution_count": 4,
   "id": "a7344096",
   "metadata": {},
   "outputs": [
    {
     "name": "stdout",
     "output_type": "stream",
     "text": [
      "tensor([[0.2000, 0.1000, 0.8000],\n",
      "        [0.1000, 0.5000, 0.7000],\n",
      "        [0.1000, 0.8000, 0.9000],\n",
      "        [0.0000, 0.0000, 0.0000]])\n"
     ]
    }
   ],
   "source": [
    "sample = \"you need to run\".split()\n",
    "idxes = []\n",
    "\n",
    "for word in sample:\n",
    "    try:\n",
    "        idxes.append(vocab[word])\n",
    "    except KeyError:\n",
    "        idxes.append(vocab[\"<unk>\"])\n",
    "idxes = torch.LongTensor(idxes)\n",
    "\n",
    "lookup_result = embedding_table[idxes, :]\n",
    "print(lookup_result)"
   ]
  },
  {
   "cell_type": "markdown",
   "id": "d203bb25",
   "metadata": {},
   "source": [
    "## 2. 임베딩 층 사용하기"
   ]
  },
  {
   "cell_type": "code",
   "execution_count": 5,
   "id": "bbc3b040",
   "metadata": {},
   "outputs": [],
   "source": [
    "import torch.nn as nn"
   ]
  },
  {
   "cell_type": "code",
   "execution_count": 6,
   "id": "64679276",
   "metadata": {},
   "outputs": [],
   "source": [
    "train_data = \"you need to know how to code\"\n",
    "\n",
    "word_set = set(train_data.split())\n",
    "\n",
    "vacab = {tkn : i+2 for i, tkn in enumerate(word_set)}\n",
    "vocab[\"<unk>\"] = 0\n",
    "vocab[\"<pad>\"] = 1"
   ]
  },
  {
   "cell_type": "code",
   "execution_count": 7,
   "id": "67a0ca83",
   "metadata": {},
   "outputs": [],
   "source": [
    "embedding_layer = nn.Embedding(num_embeddings=len(vocab),\n",
    "                              embedding_dim=3,\n",
    "                              padding_idx=1)"
   ]
  },
  {
   "cell_type": "code",
   "execution_count": 8,
   "id": "13b39349",
   "metadata": {},
   "outputs": [
    {
     "name": "stdout",
     "output_type": "stream",
     "text": [
      "Parameter containing:\n",
      "tensor([[-0.6286,  0.2191,  0.4951],\n",
      "        [ 0.0000,  0.0000,  0.0000],\n",
      "        [ 0.5386, -0.4040, -1.3977],\n",
      "        [ 0.1284, -0.0811,  1.3559],\n",
      "        [ 0.2772,  1.0017, -1.4722],\n",
      "        [-0.3680, -0.1215, -0.2049],\n",
      "        [-1.6412,  3.8173,  0.8596],\n",
      "        [-0.4979,  0.6664, -0.2072]], requires_grad=True)\n"
     ]
    }
   ],
   "source": [
    "print(embedding_layer.weight)"
   ]
  }
 ],
 "metadata": {
  "kernelspec": {
   "display_name": "Python 3 (ipykernel)",
   "language": "python",
   "name": "python3"
  },
  "language_info": {
   "codemirror_mode": {
    "name": "ipython",
    "version": 3
   },
   "file_extension": ".py",
   "mimetype": "text/x-python",
   "name": "python",
   "nbconvert_exporter": "python",
   "pygments_lexer": "ipython3",
   "version": "3.9.7"
  }
 },
 "nbformat": 4,
 "nbformat_minor": 5
}
