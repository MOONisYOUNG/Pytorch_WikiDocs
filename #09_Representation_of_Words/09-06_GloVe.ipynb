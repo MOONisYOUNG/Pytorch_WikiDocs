{
 "cells": [
  {
   "cell_type": "markdown",
   "id": "d9d19dab",
   "metadata": {},
   "source": [
    "## 👉 09-06. 글로브 (GloVe)"
   ]
  },
  {
   "cell_type": "markdown",
   "id": "3e15e13f",
   "metadata": {},
   "source": [
    "* GloVe는 '카운트 기반 방식(ex. LSA : Latent Semantic Analysis)'과 '예측 기반 방식(ex. Word2Vec)'을 합친 임베딩 방법론임.\n",
    "* 2014년 스탠포드 대학에서 GloVe 방식을 발표함.\n",
    "* Word2Vec과 GloVe 중 어떤 것이 더 뛰어난지 단정적으로 말할 수 없음. 둘 다 사용해 보고 비교하는 관점이 필요함."
   ]
  },
  {
   "cell_type": "markdown",
   "id": "31733269",
   "metadata": {},
   "source": [
    "## 1. 기존 방법론에 대한 비판"
   ]
  },
  {
   "cell_type": "markdown",
   "id": "e19e1ec1",
   "metadata": {},
   "source": [
    "* 기존 방법론으로는 LSA 방식과 Word2Vec 방식이 있음.\n",
    "* LSA는 각 단어의 빈도수를 기록한 행렬을 차원 축소하여 잠재된 의미를 끌어내는 방법임. (카운트 기반)\n",
    "* Word2Vec은 실제값과 예측값에 대한 오차를 손실함수로 줄여나가며 학습하는 방법임.(예측 기반)\n",
    "* LSA는 전체적인 통계 정보를 고려하지만, 의미 유추 작업에서는 성능이 떨어진다는 단점이 존재함.\n",
    "* Word2Vec은 의미 유추 작업에서는 성능이 좋지만, 전체적인 통계 정보를 고려하지 못한다는 단점이 있음.\n",
    "* GloVe는 이 두 기법을 합침으로써 위에서 언급한 단점들을 극복하기 위해 등장함. "
   ]
  },
  {
   "cell_type": "markdown",
   "id": "ae78e0c0",
   "metadata": {},
   "source": [
    "## 2. 윈도우 기반 동시 등장 행렬 (Window based Co-occurrence Matrix)"
   ]
  },
  {
   "cell_type": "markdown",
   "id": "79611d84",
   "metadata": {},
   "source": [
    "* 단어의 동시 등장 행렬은 행과 열을 전체 단어 집합을 사용하여 구성하고, i 단어 주변을 기준으로 윈도우 크기 내에서 k 단어가 등장한 횟수를 i행 k열에 기재한 것을 '윈도우 기반 동시 등장 행렬'이라고 함.\n",
    "* '윈도우 기반 동시 등장 행렬'을 전치(Transpose)시켜도 동일한 행렬 값을 유지함."
   ]
  },
  {
   "cell_type": "markdown",
   "id": "0b36be95",
   "metadata": {},
   "source": [
    "## 3. 동시 등장 확률 (Co-occurrence Probability)"
   ]
  },
  {
   "cell_type": "markdown",
   "id": "f6799792",
   "metadata": {},
   "source": [
    "* '동시 등장 확률(Co-occurrence Probability)'은 동시 등장 행렬을 기준으로 P(k|i)는 특정 단어 i가 등장했을 때, 어떤 단어 k가 등장했는지를 알 수 있는 조건부 확률임."
   ]
  },
  {
   "cell_type": "markdown",
   "id": "44dace50",
   "metadata": {},
   "source": [
    "## 4. 손실 함수 (Loss function)"
   ]
  },
  {
   "cell_type": "markdown",
   "id": "4efb4105",
   "metadata": {},
   "source": [
    "* GloVe의 핵심 아이디어는 '임베딩 처리된 중심 단어와 주변 단어 벡터의 내적이 전체 코퍼스에서의 동시 등장 확률이 되도록 만드는 것'임.\n",
    "* GloVE 연산에 사용되는 동시 등장 행렬 X가 희소 행렬(Sparse Matrix)일 경우를 대비해서 브레이크 역할을 수행하는 가중치 함수도 함께 사용함."
   ]
  },
  {
   "cell_type": "markdown",
   "id": "801d38c1",
   "metadata": {},
   "source": [
    "## 5. GloVe 훈련시키기"
   ]
  },
  {
   "cell_type": "markdown",
   "id": "26cf2987",
   "metadata": {},
   "source": [
    "* GloVe 깃헙 마지막 업데이트 시기가 7년 전임... \n",
    "* 티스토리, 스택오버플로우 등을 모두 참고했지만, 에러를 해결할 수 없었음...\n",
    "* '!pip install glove_python' 명령문을 '!pip install glove_python_binary' 명령문으로 바꾸면 된다고 블로그에 나와 있었지만, 해당 패키지 버전이 없다는 말만 나왔다...😢\n",
    "* 같은 문제를 겪고 있는 사람들이 해당 깃헙 레포 Issues에 있었지만, 아무도 해결한 사람이 없었다고 한다...^^;;\n",
    "* 궁극적인 문제를 해결하려면 C 관련 지식을 깊게 이해해야만 할 것 같다... \n",
    "* Low 레벨 단계에서 문제가 생겼거나, 업데이트가 너무 오래되어서 호환이 안 되는 것 같음.."
   ]
  }
 ],
 "metadata": {
  "kernelspec": {
   "display_name": "Python 3 (ipykernel)",
   "language": "python",
   "name": "python3"
  },
  "language_info": {
   "codemirror_mode": {
    "name": "ipython",
    "version": 3
   },
   "file_extension": ".py",
   "mimetype": "text/x-python",
   "name": "python",
   "nbconvert_exporter": "python",
   "pygments_lexer": "ipython3",
   "version": "3.9.7"
  }
 },
 "nbformat": 4,
 "nbformat_minor": 5
}
