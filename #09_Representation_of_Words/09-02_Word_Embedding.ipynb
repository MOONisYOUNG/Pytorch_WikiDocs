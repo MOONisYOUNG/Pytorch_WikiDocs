{
 "cells": [
  {
   "cell_type": "markdown",
   "id": "dac4c5d5",
   "metadata": {},
   "source": [
    "## 👉 09-02. 워드 임베딩 (Word Embedding)"
   ]
  },
  {
   "cell_type": "markdown",
   "id": "987f143e",
   "metadata": {},
   "source": [
    "## 1. 희소 표현 (Sparse Representation)"
   ]
  },
  {
   "cell_type": "code",
   "execution_count": 1,
   "id": "7687603c",
   "metadata": {},
   "outputs": [],
   "source": [
    "import torch"
   ]
  },
  {
   "cell_type": "code",
   "execution_count": 2,
   "id": "a594fc55",
   "metadata": {},
   "outputs": [],
   "source": [
    "dog = torch.FloatTensor([1, 0, 0, 0, 0])\n",
    "cat = torch.FloatTensor([0, 1, 0, 0, 0])\n",
    "computer = torch.FloatTensor([0, 0, 1, 0, 0])\n",
    "netbook = torch.FloatTensor([0, 0, 0, 1, 0])\n",
    "book = torch.FloatTensor([0, 0, 0, 0, 1])"
   ]
  },
  {
   "cell_type": "code",
   "execution_count": 3,
   "id": "b30ece50",
   "metadata": {},
   "outputs": [
    {
     "name": "stdout",
     "output_type": "stream",
     "text": [
      "tensor(0.)\n",
      "tensor(0.)\n",
      "tensor(0.)\n",
      "tensor(0.)\n"
     ]
    }
   ],
   "source": [
    "print(torch.cosine_similarity(dog, cat, dim=0))\n",
    "print(torch.cosine_similarity(cat, computer, dim=0))\n",
    "print(torch.cosine_similarity(computer, netbook, dim=0))\n",
    "print(torch.cosine_similarity(netbook, book, dim=0))"
   ]
  },
  {
   "cell_type": "markdown",
   "id": "80c9ba15",
   "metadata": {},
   "source": [
    "## 2. 밀집 표현 (Dense Representation)"
   ]
  },
  {
   "cell_type": "markdown",
   "id": "188211f4",
   "metadata": {},
   "source": [
    "* 밀집 표현(Dense Representation)은 희소 표현(Sparse Representation)과 반대되는 개념임.\n",
    "* 원-핫 인코딩을 사용했을 때와 다르게 이진수가 아니라 실수값으로 표현함.\n",
    "* 밀집 표현(Dense Representation) 형태의 벡터를 밀집 벡터(Dense Vector)라고도 부름."
   ]
  },
  {
   "cell_type": "markdown",
   "id": "448537b0",
   "metadata": {},
   "source": [
    "## 3. 워드 임베딩 (Word Embedding)"
   ]
  },
  {
   "cell_type": "markdown",
   "id": "f2e96490",
   "metadata": {},
   "source": [
    "* 단어를 밀집 벡터 형태로 표현하는 방법을 워드 임베딩(Word Embedding)이라고 함.\n",
    "* 워드 임베딩 과정을 통해 나온 결과를 임베딩 벡터(Embedding Vector)라고 칭함."
   ]
  }
 ],
 "metadata": {
  "kernelspec": {
   "display_name": "Python 3 (ipykernel)",
   "language": "python",
   "name": "python3"
  },
  "language_info": {
   "codemirror_mode": {
    "name": "ipython",
    "version": 3
   },
   "file_extension": ".py",
   "mimetype": "text/x-python",
   "name": "python",
   "nbconvert_exporter": "python",
   "pygments_lexer": "ipython3",
   "version": "3.9.7"
  }
 },
 "nbformat": 4,
 "nbformat_minor": 5
}
