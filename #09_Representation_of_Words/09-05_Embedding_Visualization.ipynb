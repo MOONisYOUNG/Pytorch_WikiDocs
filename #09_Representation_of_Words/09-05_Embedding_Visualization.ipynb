{
 "cells": [
  {
   "cell_type": "markdown",
   "id": "123f21e6",
   "metadata": {},
   "source": [
    "## 👉 09-05. 임베딩 벡터의 시각화 (Embedding Visualization)"
   ]
  },
  {
   "cell_type": "markdown",
   "id": "19adcddd",
   "metadata": {},
   "source": [
    "## 1. 워드 임베딩 모델로부터 2개의 tsv 파일 생성하기"
   ]
  },
  {
   "cell_type": "markdown",
   "id": "5c33dc6c",
   "metadata": {},
   "source": [
    "* 하단의 명령문을 실행하면 'eng_w2v_tensor.tsv'와 'eng_w2v_metadata.tsv'가 생성된다."
   ]
  },
  {
   "cell_type": "code",
   "execution_count": 1,
   "id": "016ea4d9",
   "metadata": {
    "scrolled": true
   },
   "outputs": [
    {
     "name": "stderr",
     "output_type": "stream",
     "text": [
      "D:\\Anaconda3\\lib\\site-packages\\scipy\\__init__.py:146: UserWarning: A NumPy version >=1.16.5 and <1.23.0 is required for this version of SciPy (detected version 1.25.0\n",
      "  warnings.warn(f\"A NumPy version >={np_minversion} and <{np_maxversion}\"\n",
      "2023-07-07 16:19:44,961 - word2vec2tensor - INFO - running D:\\Anaconda3\\lib\\site-packages\\gensim\\scripts\\word2vec2tensor.py --input eng_w2v --output eng_w2v\n",
      "2023-07-07 16:19:44,961 - keyedvectors - INFO - loading projection weights from eng_w2v\n",
      "2023-07-07 16:19:46,818 - utils - INFO - KeyedVectors lifecycle event {'msg': 'loaded (21613, 100) matrix of type float32 from eng_w2v', 'binary': False, 'encoding': 'utf8', 'datetime': '2023-07-07T16:19:46.804893', 'gensim': '4.3.1', 'python': '3.9.7 (default, Sep 16 2021, 16:59:28) [MSC v.1916 64 bit (AMD64)]', 'platform': 'Windows-10-10.0.22000-SP0', 'event': 'load_word2vec_format'}\n",
      "2023-07-07 16:19:48,325 - word2vec2tensor - INFO - 2D tensor file saved to eng_w2v_tensor.tsv\n",
      "2023-07-07 16:19:48,325 - word2vec2tensor - INFO - Tensor metadata file saved to eng_w2v_metadata.tsv\n",
      "2023-07-07 16:19:48,326 - word2vec2tensor - INFO - finished running word2vec2tensor.py\n"
     ]
    }
   ],
   "source": [
    "!python -m gensim.scripts.word2vec2tensor --input eng_w2v --output eng_w2v"
   ]
  },
  {
   "cell_type": "markdown",
   "id": "616402af",
   "metadata": {},
   "source": [
    "## 2. 임베딩 프로젝터를 사용하여 시각화하기"
   ]
  },
  {
   "cell_type": "markdown",
   "id": "944b7993",
   "metadata": {},
   "source": [
    "* 위에서 생성한 2개의 파일을 하단 링크 속 사이트에 업로드한다.\n",
    "* 링크 : https://projector.tensorflow.org/"
   ]
  }
 ],
 "metadata": {
  "kernelspec": {
   "display_name": "Python 3 (ipykernel)",
   "language": "python",
   "name": "python3"
  },
  "language_info": {
   "codemirror_mode": {
    "name": "ipython",
    "version": 3
   },
   "file_extension": ".py",
   "mimetype": "text/x-python",
   "name": "python",
   "nbconvert_exporter": "python",
   "pygments_lexer": "ipython3",
   "version": "3.9.7"
  }
 },
 "nbformat": 4,
 "nbformat_minor": 5
}
