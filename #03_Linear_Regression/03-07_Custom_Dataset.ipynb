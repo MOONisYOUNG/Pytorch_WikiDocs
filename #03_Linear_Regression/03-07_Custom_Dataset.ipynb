{
 "cells": [
  {
   "cell_type": "markdown",
   "id": "c7881038",
   "metadata": {},
   "source": [
    "## 2. Custom Dataset으로 선형 회귀 구현하기"
   ]
  },
  {
   "cell_type": "code",
   "execution_count": null,
   "id": "31421414",
   "metadata": {},
   "outputs": [],
   "source": [
    "# 현재 실습하고 있는 파이썬 코드를 재실행해도 다음에도 같은 결과가 나오도록 랜덤 시드(random seed)를 줍니다.\n",
    "torch.manual_seed(1)"
   ]
  },
  {
   "cell_type": "code",
   "execution_count": 2,
   "id": "2f92a09e",
   "metadata": {},
   "outputs": [],
   "source": [
    "import torch\n",
    "import torch.nn.functional as F"
   ]
  },
  {
   "cell_type": "code",
   "execution_count": 3,
   "id": "4c1c6d97",
   "metadata": {},
   "outputs": [],
   "source": [
    "from torch.utils.data import Dataset\n",
    "from torch.utils.data import DataLoader"
   ]
  },
  {
   "cell_type": "code",
   "execution_count": 4,
   "id": "d3e5ca8b",
   "metadata": {},
   "outputs": [],
   "source": [
    "# Dataset 상속\n",
    "class CustomDataset(Dataset): \n",
    "    def __init__(self):\n",
    "        self.x_data = [[73, 80, 75],\n",
    "                       [93, 88, 93],\n",
    "                       [89, 91, 90],\n",
    "                       [96, 98, 100],\n",
    "                       [73, 66, 70]]\n",
    "        self.y_data = [[152], [185], [180], [196], [142]]\n",
    "\n",
    "  # 총 데이터의 개수를 리턴\n",
    "    def __len__(self): \n",
    "        return len(self.x_data)\n",
    "\n",
    "  # 인덱스를 입력받아 그에 맵핑되는 입출력 데이터를 파이토치의 Tensor 형태로 리턴\n",
    "    def __getitem__(self, idx): \n",
    "        x = torch.FloatTensor(self.x_data[idx])\n",
    "        y = torch.FloatTensor(self.y_data[idx])\n",
    "        return x, y"
   ]
  },
  {
   "cell_type": "code",
   "execution_count": 5,
   "id": "1edba0ce",
   "metadata": {},
   "outputs": [],
   "source": [
    "dataset = CustomDataset()\n",
    "dataloader = DataLoader(dataset, batch_size=2, shuffle=True)"
   ]
  },
  {
   "cell_type": "code",
   "execution_count": 6,
   "id": "95359b88",
   "metadata": {},
   "outputs": [],
   "source": [
    "model = torch.nn.Linear(3,1)\n",
    "optimizer = torch.optim.SGD(model.parameters(), lr=1e-5) "
   ]
  },
  {
   "cell_type": "code",
   "execution_count": 7,
   "id": "20449de2",
   "metadata": {},
   "outputs": [
    {
     "name": "stdout",
     "output_type": "stream",
     "text": [
      "Epoch    0/20 Batch 1/3 Cost: 28090.894531\n",
      "Epoch    0/20 Batch 2/3 Cost: 12954.451172\n",
      "Epoch    0/20 Batch 3/3 Cost: 1589.146240\n",
      "Epoch    1/20 Batch 1/3 Cost: 935.524292\n",
      "Epoch    1/20 Batch 2/3 Cost: 519.319641\n",
      "Epoch    1/20 Batch 3/3 Cost: 36.576324\n",
      "Epoch    2/20 Batch 1/3 Cost: 46.388237\n",
      "Epoch    2/20 Batch 2/3 Cost: 13.986980\n",
      "Epoch    2/20 Batch 3/3 Cost: 4.962406\n",
      "Epoch    3/20 Batch 1/3 Cost: 0.477254\n",
      "Epoch    3/20 Batch 2/3 Cost: 3.634449\n",
      "Epoch    3/20 Batch 3/3 Cost: 6.775116\n",
      "Epoch    4/20 Batch 1/3 Cost: 3.431618\n",
      "Epoch    4/20 Batch 2/3 Cost: 2.732491\n",
      "Epoch    4/20 Batch 3/3 Cost: 0.362098\n",
      "Epoch    5/20 Batch 1/3 Cost: 1.945502\n",
      "Epoch    5/20 Batch 2/3 Cost: 3.263004\n",
      "Epoch    5/20 Batch 3/3 Cost: 2.630666\n",
      "Epoch    6/20 Batch 1/3 Cost: 3.906965\n",
      "Epoch    6/20 Batch 2/3 Cost: 0.700350\n",
      "Epoch    6/20 Batch 3/3 Cost: 4.737212\n",
      "Epoch    7/20 Batch 1/3 Cost: 1.384913\n",
      "Epoch    7/20 Batch 2/3 Cost: 3.893028\n",
      "Epoch    7/20 Batch 3/3 Cost: 5.608996\n",
      "Epoch    8/20 Batch 1/3 Cost: 2.967960\n",
      "Epoch    8/20 Batch 2/3 Cost: 2.546125\n",
      "Epoch    8/20 Batch 3/3 Cost: 4.485779\n",
      "Epoch    9/20 Batch 1/3 Cost: 1.293346\n",
      "Epoch    9/20 Batch 2/3 Cost: 3.039362\n",
      "Epoch    9/20 Batch 3/3 Cost: 4.624246\n",
      "Epoch   10/20 Batch 1/3 Cost: 4.882332\n",
      "Epoch   10/20 Batch 2/3 Cost: 4.355531\n",
      "Epoch   10/20 Batch 3/3 Cost: 0.011910\n",
      "Epoch   11/20 Batch 1/3 Cost: 3.578539\n",
      "Epoch   11/20 Batch 2/3 Cost: 0.895548\n",
      "Epoch   11/20 Batch 3/3 Cost: 4.474926\n",
      "Epoch   12/20 Batch 1/3 Cost: 2.307165\n",
      "Epoch   12/20 Batch 2/3 Cost: 2.569595\n",
      "Epoch   12/20 Batch 3/3 Cost: 4.266315\n",
      "Epoch   13/20 Batch 1/3 Cost: 3.290328\n",
      "Epoch   13/20 Batch 2/3 Cost: 3.410898\n",
      "Epoch   13/20 Batch 3/3 Cost: 5.828803\n",
      "Epoch   14/20 Batch 1/3 Cost: 2.919727\n",
      "Epoch   14/20 Batch 2/3 Cost: 3.074189\n",
      "Epoch   14/20 Batch 3/3 Cost: 0.084468\n",
      "Epoch   15/20 Batch 1/3 Cost: 3.066416\n",
      "Epoch   15/20 Batch 2/3 Cost: 2.859929\n",
      "Epoch   15/20 Batch 3/3 Cost: 0.132773\n",
      "Epoch   16/20 Batch 1/3 Cost: 1.741457\n",
      "Epoch   16/20 Batch 2/3 Cost: 3.262990\n",
      "Epoch   16/20 Batch 3/3 Cost: 2.568914\n",
      "Epoch   17/20 Batch 1/3 Cost: 1.135900\n",
      "Epoch   17/20 Batch 2/3 Cost: 3.586335\n",
      "Epoch   17/20 Batch 3/3 Cost: 4.971248\n",
      "Epoch   18/20 Batch 1/3 Cost: 1.265095\n",
      "Epoch   18/20 Batch 2/3 Cost: 3.495008\n",
      "Epoch   18/20 Batch 3/3 Cost: 3.494942\n",
      "Epoch   19/20 Batch 1/3 Cost: 2.634703\n",
      "Epoch   19/20 Batch 2/3 Cost: 2.348131\n",
      "Epoch   19/20 Batch 3/3 Cost: 3.837560\n",
      "Epoch   20/20 Batch 1/3 Cost: 5.330764\n",
      "Epoch   20/20 Batch 2/3 Cost: 2.596709\n",
      "Epoch   20/20 Batch 3/3 Cost: 1.456482\n"
     ]
    }
   ],
   "source": [
    "nb_epochs = 20\n",
    "for epoch in range(nb_epochs + 1):\n",
    "    for batch_idx, samples in enumerate(dataloader):\n",
    "        # print(batch_idx)\n",
    "        # print(samples)\n",
    "        x_train, y_train = samples\n",
    "        # H(x) 계산\n",
    "        prediction = model(x_train)\n",
    "\n",
    "        # cost 계산\n",
    "        cost = F.mse_loss(prediction, y_train)\n",
    "\n",
    "        # cost로 H(x) 계산\n",
    "        optimizer.zero_grad()\n",
    "        cost.backward()\n",
    "        optimizer.step()\n",
    "\n",
    "        print('Epoch {:4d}/{} Batch {}/{} Cost: {:.6f}'.format(\n",
    "            epoch, nb_epochs, batch_idx+1, len(dataloader),\n",
    "            cost.item()\n",
    "            ))"
   ]
  },
  {
   "cell_type": "code",
   "execution_count": 8,
   "id": "eacff28b",
   "metadata": {},
   "outputs": [
    {
     "name": "stdout",
     "output_type": "stream",
     "text": [
      "훈련 후 입력이 73, 80, 75일 때의 예측값 : tensor([[153.0849]], grad_fn=<AddmmBackward0>)\n"
     ]
    }
   ],
   "source": [
    "# 임의의 입력 [73, 80, 75]를 선언\n",
    "new_var =  torch.FloatTensor([[73, 80, 75]]) \n",
    "# 입력한 값 [73, 80, 75]에 대해서 예측값 y를 리턴받아서 pred_y에 저장\n",
    "pred_y = model(new_var) \n",
    "print(\"훈련 후 입력이 73, 80, 75일 때의 예측값 :\", pred_y) "
   ]
  }
 ],
 "metadata": {
  "kernelspec": {
   "display_name": "Python 3 (ipykernel)",
   "language": "python",
   "name": "python3"
  },
  "language_info": {
   "codemirror_mode": {
    "name": "ipython",
    "version": 3
   },
   "file_extension": ".py",
   "mimetype": "text/x-python",
   "name": "python",
   "nbconvert_exporter": "python",
   "pygments_lexer": "ipython3",
   "version": "3.9.12"
  }
 },
 "nbformat": 4,
 "nbformat_minor": 5
}
