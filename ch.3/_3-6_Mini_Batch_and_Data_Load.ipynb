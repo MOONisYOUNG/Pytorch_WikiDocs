{
 "cells": [
  {
   "cell_type": "markdown",
   "id": "1409ee29",
   "metadata": {},
   "source": [
    "## 1. Mini Batch and Batch Size"
   ]
  },
  {
   "cell_type": "code",
   "execution_count": null,
   "id": "092a296f",
   "metadata": {},
   "outputs": [],
   "source": [
    "# 현재 실습하고 있는 파이썬 코드를 재실행해도 다음에도 같은 결과가 나오도록 랜덤 시드(random seed)를 줍니다.\n",
    "torch.manual_seed(1)"
   ]
  },
  {
   "cell_type": "code",
   "execution_count": 2,
   "id": "da31372f",
   "metadata": {},
   "outputs": [],
   "source": [
    "import torch"
   ]
  },
  {
   "cell_type": "code",
   "execution_count": 3,
   "id": "981c57ee",
   "metadata": {},
   "outputs": [],
   "source": [
    "x_train = torch.FloatTensor([[73, 80, 75],\n",
    "                             [93, 88, 93],\n",
    "                             [89, 91, 90],\n",
    "                             [96, 98, 100],\n",
    "                             [73, 66, 70]])\n",
    "y_train = torch.FloatTensor([[152], [185], [180], [196], [142]])"
   ]
  },
  {
   "cell_type": "markdown",
   "id": "ce65ab20",
   "metadata": {},
   "source": [
    "## 3. Data Load"
   ]
  },
  {
   "cell_type": "code",
   "execution_count": 4,
   "id": "d41a4823",
   "metadata": {},
   "outputs": [],
   "source": [
    "import torch\n",
    "import torch.nn as nn\n",
    "import torch.nn.functional as F"
   ]
  },
  {
   "cell_type": "code",
   "execution_count": 5,
   "id": "5dcba8ad",
   "metadata": {},
   "outputs": [],
   "source": [
    "from torch.utils.data import TensorDataset # 텐서데이터셋\n",
    "from torch.utils.data import DataLoader # 데이터로더"
   ]
  },
  {
   "cell_type": "code",
   "execution_count": 6,
   "id": "156dc6be",
   "metadata": {},
   "outputs": [],
   "source": [
    "x_train  =  torch.FloatTensor([[73,  80,  75], \n",
    "                               [93,  88,  93], \n",
    "                               [89,  91,  90], \n",
    "                               [96,  98,  100],   \n",
    "                               [73,  66,  70]])  \n",
    "y_train  =  torch.FloatTensor([[152],  [185],  [180],  [196],  [142]])"
   ]
  },
  {
   "cell_type": "code",
   "execution_count": 7,
   "id": "0eca5f7c",
   "metadata": {},
   "outputs": [],
   "source": [
    "dataset = TensorDataset(x_train, y_train)"
   ]
  },
  {
   "cell_type": "code",
   "execution_count": 8,
   "id": "e35a9329",
   "metadata": {},
   "outputs": [],
   "source": [
    "dataloader = DataLoader(dataset, batch_size=2, shuffle=True)"
   ]
  },
  {
   "cell_type": "code",
   "execution_count": 9,
   "id": "0c7b1932",
   "metadata": {},
   "outputs": [],
   "source": [
    "model = nn.Linear(3,1)\n",
    "optimizer = torch.optim.SGD(model.parameters(), lr=1e-5) "
   ]
  },
  {
   "cell_type": "code",
   "execution_count": 11,
   "id": "417c9f6e",
   "metadata": {},
   "outputs": [
    {
     "name": "stdout",
     "output_type": "stream",
     "text": [
      "Epoch    0/20 Batch 1/3 Cost: 10.340808\n",
      "Epoch    0/20 Batch 2/3 Cost: 4.991354\n",
      "Epoch    0/20 Batch 3/3 Cost: 7.368637\n",
      "Epoch    1/20 Batch 1/3 Cost: 6.409703\n",
      "Epoch    1/20 Batch 2/3 Cost: 9.047396\n",
      "Epoch    1/20 Batch 3/3 Cost: 0.627687\n",
      "Epoch    2/20 Batch 1/3 Cost: 3.021542\n",
      "Epoch    2/20 Batch 2/3 Cost: 8.670732\n",
      "Epoch    2/20 Batch 3/3 Cost: 4.909792\n",
      "Epoch    3/20 Batch 1/3 Cost: 7.835030\n",
      "Epoch    3/20 Batch 2/3 Cost: 0.881101\n",
      "Epoch    3/20 Batch 3/3 Cost: 12.867266\n",
      "Epoch    4/20 Batch 1/3 Cost: 11.532574\n",
      "Epoch    4/20 Batch 2/3 Cost: 4.400082\n",
      "Epoch    4/20 Batch 3/3 Cost: 6.916524\n",
      "Epoch    5/20 Batch 1/3 Cost: 6.953770\n",
      "Epoch    5/20 Batch 2/3 Cost: 6.254072\n",
      "Epoch    5/20 Batch 3/3 Cost: 17.034010\n",
      "Epoch    6/20 Batch 1/3 Cost: 6.152664\n",
      "Epoch    6/20 Batch 2/3 Cost: 7.890696\n",
      "Epoch    6/20 Batch 3/3 Cost: 0.000482\n",
      "Epoch    7/20 Batch 1/3 Cost: 7.795572\n",
      "Epoch    7/20 Batch 2/3 Cost: 1.295633\n",
      "Epoch    7/20 Batch 3/3 Cost: 11.499856\n",
      "Epoch    8/20 Batch 1/3 Cost: 5.125707\n",
      "Epoch    8/20 Batch 2/3 Cost: 7.038930\n",
      "Epoch    8/20 Batch 3/3 Cost: 16.202419\n",
      "Epoch    9/20 Batch 1/3 Cost: 8.782482\n",
      "Epoch    9/20 Batch 2/3 Cost: 3.663046\n",
      "Epoch    9/20 Batch 3/3 Cost: 4.652771\n",
      "Epoch   10/20 Batch 1/3 Cost: 5.439400\n",
      "Epoch   10/20 Batch 2/3 Cost: 5.163909\n",
      "Epoch   10/20 Batch 3/3 Cost: 11.625731\n",
      "Epoch   11/20 Batch 1/3 Cost: 9.459350\n",
      "Epoch   11/20 Batch 2/3 Cost: 0.988611\n",
      "Epoch   11/20 Batch 3/3 Cost: 9.538178\n",
      "Epoch   12/20 Batch 1/3 Cost: 5.300800\n",
      "Epoch   12/20 Batch 2/3 Cost: 2.580821\n",
      "Epoch   12/20 Batch 3/3 Cost: 13.048965\n",
      "Epoch   13/20 Batch 1/3 Cost: 11.280783\n",
      "Epoch   13/20 Batch 2/3 Cost: 3.587442\n",
      "Epoch   13/20 Batch 3/3 Cost: 8.289244\n",
      "Epoch   14/20 Batch 1/3 Cost: 7.238945\n",
      "Epoch   14/20 Batch 2/3 Cost: 5.942447\n",
      "Epoch   14/20 Batch 3/3 Cost: 9.455043\n",
      "Epoch   15/20 Batch 1/3 Cost: 6.150557\n",
      "Epoch   15/20 Batch 2/3 Cost: 3.119715\n",
      "Epoch   15/20 Batch 3/3 Cost: 14.554010\n",
      "Epoch   16/20 Batch 1/3 Cost: 7.515984\n",
      "Epoch   16/20 Batch 2/3 Cost: 4.918002\n",
      "Epoch   16/20 Batch 3/3 Cost: 8.170355\n",
      "Epoch   17/20 Batch 1/3 Cost: 13.437365\n",
      "Epoch   17/20 Batch 2/3 Cost: 4.696152\n",
      "Epoch   17/20 Batch 3/3 Cost: 4.525618\n",
      "Epoch   18/20 Batch 1/3 Cost: 9.461557\n",
      "Epoch   18/20 Batch 2/3 Cost: 2.313936\n",
      "Epoch   18/20 Batch 3/3 Cost: 7.443132\n",
      "Epoch   19/20 Batch 1/3 Cost: 7.537318\n",
      "Epoch   19/20 Batch 2/3 Cost: 6.090777\n",
      "Epoch   19/20 Batch 3/3 Cost: 0.026922\n",
      "Epoch   20/20 Batch 1/3 Cost: 5.550955\n",
      "Epoch   20/20 Batch 2/3 Cost: 2.849540\n",
      "Epoch   20/20 Batch 3/3 Cost: 11.964362\n"
     ]
    }
   ],
   "source": [
    "nb_epochs = 20\n",
    "for epoch in range(nb_epochs + 1):\n",
    "    for batch_idx, samples in enumerate(dataloader):\n",
    "        # print(batch_idx)\n",
    "        # print(samples)\n",
    "        x_train, y_train = samples\n",
    "        # H(x) 계산\n",
    "        prediction = model(x_train)\n",
    "\n",
    "        # cost 계산\n",
    "        cost = F.mse_loss(prediction, y_train)\n",
    "\n",
    "        # cost로 H(x) 계산\n",
    "        optimizer.zero_grad()\n",
    "        cost.backward()\n",
    "        optimizer.step()\n",
    "\n",
    "        print('Epoch {:4d}/{} Batch {}/{} Cost: {:.6f}'.format(\n",
    "            epoch, nb_epochs, batch_idx+1, len(dataloader),\n",
    "            cost.item()\n",
    "            ))"
   ]
  },
  {
   "cell_type": "code",
   "execution_count": 12,
   "id": "128dc7ed",
   "metadata": {},
   "outputs": [
    {
     "name": "stdout",
     "output_type": "stream",
     "text": [
      "훈련 후 입력이 73, 80, 75일 때의 예측값 : tensor([[154.2584]], grad_fn=<AddmmBackward0>)\n"
     ]
    }
   ],
   "source": [
    "# 임의의 입력 [73, 80, 75]를 선언\n",
    "new_var =  torch.FloatTensor([[73, 80, 75]]) \n",
    "# 입력한 값 [73, 80, 75]에 대해서 예측값 y를 리턴받아서 pred_y에 저장\n",
    "pred_y = model(new_var) \n",
    "print(\"훈련 후 입력이 73, 80, 75일 때의 예측값 :\", pred_y) "
   ]
  }
 ],
 "metadata": {
  "kernelspec": {
   "display_name": "Python 3 (ipykernel)",
   "language": "python",
   "name": "python3"
  },
  "language_info": {
   "codemirror_mode": {
    "name": "ipython",
    "version": 3
   },
   "file_extension": ".py",
   "mimetype": "text/x-python",
   "name": "python",
   "nbconvert_exporter": "python",
   "pygments_lexer": "ipython3",
   "version": "3.9.12"
  }
 },
 "nbformat": 4,
 "nbformat_minor": 5
}
