{
 "cells": [
  {
   "cell_type": "markdown",
   "id": "9ceaa261",
   "metadata": {},
   "source": [
    "## 👉 10-03. 게이트 순환 유닛 (Gated Recurrent Unit, GRU)"
   ]
  },
  {
   "cell_type": "markdown",
   "id": "1a44cedb",
   "metadata": {},
   "source": [
    "* GRU는 LSTM의 간단화 버전임."
   ]
  },
  {
   "cell_type": "markdown",
   "id": "1236789c",
   "metadata": {},
   "source": [
    "## 1. GRU (Gated Recurrent Unit)"
   ]
  },
  {
   "cell_type": "markdown",
   "id": "925a61b6",
   "metadata": {},
   "source": [
    "* GRU에는 업데이트 게이트, 리셋 게이트만 존재함.\n",
    "* GRU는 LSTM보다 학습 속도가 빠르지만, 비슷한 성능을 보임.\n",
    "* 경험적으로 데이터 양이 적을 때는 GRU가 더 낫고, 데이터 양이 많을 떄는 LSTM이 더 나음.\n",
    "* LSTM이 먼저 나왔기 때문에 GRU보다 자료가 풍부함."
   ]
  },
  {
   "cell_type": "markdown",
   "id": "85824b18",
   "metadata": {},
   "source": [
    "## 2. 파이토치의 nn.GRU()"
   ]
  },
  {
   "cell_type": "markdown",
   "id": "ad6fc15c",
   "metadata": {},
   "source": [
    "* nn.GRU(input_dim, hidden_size, batch_first=True)를 통해 사용 가능함."
   ]
  }
 ],
 "metadata": {
  "kernelspec": {
   "display_name": "Python 3 (ipykernel)",
   "language": "python",
   "name": "python3"
  },
  "language_info": {
   "codemirror_mode": {
    "name": "ipython",
    "version": 3
   },
   "file_extension": ".py",
   "mimetype": "text/x-python",
   "name": "python",
   "nbconvert_exporter": "python",
   "pygments_lexer": "ipython3",
   "version": "3.9.7"
  }
 },
 "nbformat": 4,
 "nbformat_minor": 5
}
