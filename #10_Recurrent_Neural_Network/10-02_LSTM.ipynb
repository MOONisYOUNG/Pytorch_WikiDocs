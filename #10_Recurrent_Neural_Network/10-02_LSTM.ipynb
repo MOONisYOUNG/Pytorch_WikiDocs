{
 "cells": [
  {
   "cell_type": "markdown",
   "id": "1687a12d",
   "metadata": {},
   "source": [
    "## 👉 10-02. 장단기 메모리 (Long Short-Term Memory, LSTM)"
   ]
  },
  {
   "cell_type": "markdown",
   "id": "c981f3ec",
   "metadata": {},
   "source": [
    "* 가장 단순한 형태의 RNN을 '바닐라 RNN(Vanilla RNN)'이라고 함."
   ]
  },
  {
   "cell_type": "markdown",
   "id": "5aaef520",
   "metadata": {},
   "source": [
    "## 1. 바닐라 RNN의 한계"
   ]
  },
  {
   "cell_type": "markdown",
   "id": "c44e015e",
   "metadata": {},
   "source": [
    "* '바닐라 RNN'은 현재 시점과 먼 단어들을 기억하지 못하는 '장기 의존성 문제(The Problem of Long-Term Dependencies)'라는 한계점이 존재함."
   ]
  },
  {
   "cell_type": "markdown",
   "id": "be62361a",
   "metadata": {},
   "source": [
    "## 2. 바닐라 RNN 내부 열어보기"
   ]
  },
  {
   "cell_type": "markdown",
   "id": "091aa9a4",
   "metadata": {},
   "source": [
    "* '바닐라 RNN'은 내부 연산 조건으로 입력 벡터와 이전 층의 은닉 상태만 주어짐. "
   ]
  },
  {
   "cell_type": "markdown",
   "id": "88f52d66",
   "metadata": {},
   "source": [
    "## 3. LSTM (Long Short-Term Memory)"
   ]
  },
  {
   "cell_type": "markdown",
   "id": "b2f834a1",
   "metadata": {},
   "source": [
    "* 'LSTM(장단기 메모리)'은 은닉층의 메모리 셀에 입력 게이트, 망각 게이트, 출력 게이트를 추가하여 RNN의 단점을 개선한 모델 형태임.\n",
    "* 이전 시점의 셀 상태는 다음 시점의 셀 상태를 구하기 위한 입력으로 쓰임."
   ]
  },
  {
   "cell_type": "markdown",
   "id": "7dede913",
   "metadata": {},
   "source": [
    "### (1) 입력 게이트"
   ]
  },
  {
   "cell_type": "markdown",
   "id": "344930a2",
   "metadata": {},
   "source": [
    "* '입력 게이트'는 현재 정보를 기억하기 위한 게이트임.\n",
    "* 시점 t의 i값을 구한 후, 시그모이드 함수에 대입함.\n",
    "* 시점 t의 g값을 구한 후, 하이퍼볼릭탄젠트 함수에 대입함."
   ]
  },
  {
   "cell_type": "markdown",
   "id": "bdf5fd1d",
   "metadata": {},
   "source": [
    "### (2) 삭제 게이트"
   ]
  },
  {
   "cell_type": "markdown",
   "id": "ac07efd5",
   "metadata": {},
   "source": [
    "* '삭제 게이트'는 기억을 삭제하기 위한 게이트임.\n",
    "* 시점 t의 f값을 구한 후, 시그모이드 함수에 대입함.\n",
    "* 시그모이드 함수의 결과값이 0에 가까울수록 정보가 많이 삭제된 것이고, 1에 가까울수록 정보를 온전히 기억한 것임."
   ]
  },
  {
   "cell_type": "markdown",
   "id": "44fe42a2",
   "metadata": {},
   "source": [
    "### (3) 셀 상태 (장기 상태)"
   ]
  },
  {
   "cell_type": "markdown",
   "id": "b3aac327",
   "metadata": {},
   "source": [
    "* '장기 상태를 구하는 셀'에서는 입력 게이트에서 구한 i값&g값에 원소별 곱을 적용한 후, 삭제 게이트에서 구한 값과 직전 시점 t-1의 장기 상태 셀에 원소별 곱을 취한 결과를 더해 준다."
   ]
  },
  {
   "cell_type": "markdown",
   "id": "a47de9f8",
   "metadata": {},
   "source": [
    "### (4) 출력 게이트와 은닉 상태 (단기 상태)"
   ]
  },
  {
   "cell_type": "markdown",
   "id": "182539ce",
   "metadata": {},
   "source": [
    "* '출력 게이트'는 현재 시점의 은닉 상태를 결정하는 일에 쓰임.\n",
    "* 시점 t의 '은닉 상태'는 하이퍼볼릭 탄젠트 함수에 장기 상태를 대입하여 연산한 값과 출력 게이트 값을 원소별 곱을 취함으로써 구할 수 있음."
   ]
  },
  {
   "cell_type": "markdown",
   "id": "1d2ecbf3",
   "metadata": {},
   "source": [
    "## 4. 파이토치의 nn.LSTM()"
   ]
  },
  {
   "cell_type": "markdown",
   "id": "5e93adeb",
   "metadata": {},
   "source": [
    "* nn.LSTM(input_dim, hidden_size, batch_first=True)로 LSTM을 구현할 수 있음."
   ]
  }
 ],
 "metadata": {
  "kernelspec": {
   "display_name": "Python 3 (ipykernel)",
   "language": "python",
   "name": "python3"
  },
  "language_info": {
   "codemirror_mode": {
    "name": "ipython",
    "version": 3
   },
   "file_extension": ".py",
   "mimetype": "text/x-python",
   "name": "python",
   "nbconvert_exporter": "python",
   "pygments_lexer": "ipython3",
   "version": "3.9.7"
  }
 },
 "nbformat": 4,
 "nbformat_minor": 5
}
