{
 "cells": [
  {
   "cell_type": "markdown",
   "id": "a6f9b530",
   "metadata": {},
   "source": [
    "## 👉 10-01. 순환 신경망 (Recurrent Neural Network, RNN)"
   ]
  },
  {
   "cell_type": "markdown",
   "id": "0e82d753",
   "metadata": {},
   "source": [
    "* RNN(Recurrent Neural Network)은 입출력을 시퀀스 단위로 처리하는 모델임.\n",
    "* 순환 신경망(Recurrent Neural Network) != 재귀 신경망(Recursive Neural Network)"
   ]
  },
  {
   "cell_type": "markdown",
   "id": "e616aa80",
   "metadata": {},
   "source": [
    "## 1. 순환 신경망 (Recurrent Neural Network, RNN)"
   ]
  },
  {
   "cell_type": "markdown",
   "id": "11ef6483",
   "metadata": {},
   "source": [
    "* RNN은 은닉층의 노드에서 활성화 함수를 거쳐서 나온 결과물을 출력층 뿐만 아니라 다음 은닉층으로 보내는 특징을 갖고 있음.\n",
    "* '셀(cell)'은 RNN에서 다음 은닉 층으로 결과를 내보내는 역할을 수행함. '메모리 셀' 또는 'RNN 셀'이라고 부름.\n",
    "* 다음 시점의 은닉층으로 보내는 값을 '은닉 상태(hidden state)'라고 부름.\n",
    "* RNN에서는 입력 벡터, 출력 벡터, 은닉 상태라는 표현을 주로 사용함. \n",
    "* RNN은 '일 대 다(one-to-many)', '다 대 일(many-to-one)', '다 대 다(many-to-many)' 등의 형태로 모델을 설계할 수 있음.\n",
    "* one-to-many RNN 모델의 예시로는 Image Captioning 작업이 있음. \n",
    "* many-to-one RNN 모델의 예시로는 감성 분류(Sentiment Classfication), 스팸 메일 분류(Spam Detection) 작업이 있음.\n",
    "* many-to-many RNN 모델의 예시로는 챗봇, 번역기, 개체명 인식, 품사 태깅 작업이 있음.\n",
    "* 입력층, 출력층, 은닉층 각각의 가중치는 모든 시점에서 동일함."
   ]
  },
  {
   "cell_type": "markdown",
   "id": "0abed2e6",
   "metadata": {},
   "source": [
    "## 2. 파이썬으로 RNN 구현하기"
   ]
  },
  {
   "cell_type": "code",
   "execution_count": 1,
   "id": "05fa3024",
   "metadata": {},
   "outputs": [],
   "source": [
    "import numpy as np"
   ]
  },
  {
   "cell_type": "code",
   "execution_count": 2,
   "id": "46442779",
   "metadata": {},
   "outputs": [],
   "source": [
    "timesteps = 10\n",
    "input_size = 4\n",
    "hidden_size = 8\n",
    "\n",
    "inputs = np.random.random((timesteps, input_size))\n",
    "\n",
    "hidden_state_t = np.zeros((hidden_size, ))"
   ]
  },
  {
   "cell_type": "code",
   "execution_count": 3,
   "id": "bc819e9b",
   "metadata": {},
   "outputs": [
    {
     "name": "stdout",
     "output_type": "stream",
     "text": [
      "[[0.45153097 0.11022024 0.38644695 0.71720792]\n",
      " [0.05799528 0.43733124 0.75209126 0.99731622]\n",
      " [0.74218498 0.38270037 0.58772599 0.99626678]\n",
      " [0.39003887 0.88937745 0.5255719  0.73535565]\n",
      " [0.95748284 0.19019011 0.36040954 0.86117073]\n",
      " [0.66826772 0.92574159 0.5573582  0.63808638]\n",
      " [0.10003151 0.61884541 0.64006722 0.87932755]\n",
      " [0.93542428 0.84079463 0.2120408  0.63663394]\n",
      " [0.66028897 0.58579968 0.53920603 0.07958867]\n",
      " [0.41483122 0.02120487 0.41578796 0.57643109]]\n"
     ]
    }
   ],
   "source": [
    "print(inputs)"
   ]
  },
  {
   "cell_type": "code",
   "execution_count": 4,
   "id": "f8753045",
   "metadata": {},
   "outputs": [
    {
     "name": "stdout",
     "output_type": "stream",
     "text": [
      "[0. 0. 0. 0. 0. 0. 0. 0.]\n"
     ]
    }
   ],
   "source": [
    "print(hidden_state_t)"
   ]
  },
  {
   "cell_type": "code",
   "execution_count": 5,
   "id": "ec162e72",
   "metadata": {},
   "outputs": [],
   "source": [
    "Wx = np.random.random((hidden_size, input_size))\n",
    "Wh = np.random.random((hidden_size, hidden_size))\n",
    "b = np.random.random((hidden_size, ))"
   ]
  },
  {
   "cell_type": "code",
   "execution_count": 6,
   "id": "974da70e",
   "metadata": {},
   "outputs": [
    {
     "name": "stdout",
     "output_type": "stream",
     "text": [
      "(8, 4)\n",
      "(8, 8)\n",
      "(8,)\n"
     ]
    }
   ],
   "source": [
    "print(np.shape(Wx))\n",
    "print(np.shape(Wh))\n",
    "print(np.shape(b))"
   ]
  },
  {
   "cell_type": "code",
   "execution_count": 7,
   "id": "32523040",
   "metadata": {
    "scrolled": false
   },
   "outputs": [
    {
     "name": "stdout",
     "output_type": "stream",
     "text": [
      "(1, 8)\n",
      "(2, 8)\n",
      "(3, 8)\n",
      "(4, 8)\n",
      "(5, 8)\n",
      "(6, 8)\n",
      "(7, 8)\n",
      "(8, 8)\n",
      "(9, 8)\n",
      "(10, 8)\n",
      "[[0.88767048 0.97320745 0.88179528 0.71899061 0.95101054 0.92626686\n",
      "  0.96891829 0.94171571]\n",
      " [0.99997861 0.99985074 0.99995268 0.99982217 0.99998219 0.99974413\n",
      "  0.99996392 0.99999691]\n",
      " [0.99999071 0.99996176 0.99998312 0.99991317 0.99999678 0.99988183\n",
      "  0.9999928  0.99999874]\n",
      " [0.99999047 0.99995969 0.99998238 0.99993796 0.99999272 0.99985398\n",
      "  0.99998811 0.99999808]\n",
      " [0.99998281 0.99994404 0.99997394 0.99982906 0.99999709 0.99974853\n",
      "  0.99998943 0.99999773]\n",
      " [0.99999144 0.99997586 0.99998398 0.99994911 0.9999948  0.99988112\n",
      "  0.99999264 0.99999824]\n",
      " [0.99998971 0.99991277 0.99997834 0.99991566 0.99999005 0.99981996\n",
      "  0.99998134 0.99999811]\n",
      " [0.99998572 0.99997465 0.999981   0.99990967 0.99999633 0.99980391\n",
      "  0.9999909  0.99999742]\n",
      " [0.99997607 0.99990679 0.99994701 0.99986144 0.99998866 0.99938982\n",
      "  0.99997774 0.99999315]\n",
      " [0.99996641 0.99971774 0.99993656 0.99965656 0.9999898  0.99912118\n",
      "  0.99995611 0.99999399]]\n"
     ]
    }
   ],
   "source": [
    "total_hidden_states = []\n",
    "\n",
    "for input_t in inputs:\n",
    "    output_t = np.tanh(np.dot(Wx, input_t) + np.dot(Wh, hidden_state_t) + b)\n",
    "    total_hidden_states.append(list(output_t))\n",
    "    print(np.shape(total_hidden_states))\n",
    "    hidden_state_t = output_t\n",
    "    \n",
    "total_hidden_states = np.stack(total_hidden_states, axis=0)\n",
    "\n",
    "print(total_hidden_states)"
   ]
  },
  {
   "cell_type": "markdown",
   "id": "1735a209",
   "metadata": {},
   "source": [
    "## 3. 파이토치의 nn.RNN()"
   ]
  },
  {
   "cell_type": "code",
   "execution_count": 8,
   "id": "a1262309",
   "metadata": {},
   "outputs": [],
   "source": [
    "import torch\n",
    "import torch.nn as nn"
   ]
  },
  {
   "cell_type": "code",
   "execution_count": 9,
   "id": "1c34f5db",
   "metadata": {},
   "outputs": [],
   "source": [
    "input_size = 5\n",
    "hidden_size = 8"
   ]
  },
  {
   "cell_type": "code",
   "execution_count": 10,
   "id": "f58a3ea1",
   "metadata": {},
   "outputs": [],
   "source": [
    "inputs = torch.Tensor(1, 10, 5)"
   ]
  },
  {
   "cell_type": "code",
   "execution_count": 11,
   "id": "0a5152b4",
   "metadata": {},
   "outputs": [],
   "source": [
    "cell = nn.RNN(input_size, hidden_size, batch_first=True)"
   ]
  },
  {
   "cell_type": "code",
   "execution_count": 12,
   "id": "e81b3079",
   "metadata": {},
   "outputs": [],
   "source": [
    "outputs, _status = cell(inputs)"
   ]
  },
  {
   "cell_type": "code",
   "execution_count": 13,
   "id": "357ed908",
   "metadata": {},
   "outputs": [
    {
     "name": "stdout",
     "output_type": "stream",
     "text": [
      "torch.Size([1, 10, 8])\n"
     ]
    }
   ],
   "source": [
    "print(outputs.shape)"
   ]
  },
  {
   "cell_type": "code",
   "execution_count": 14,
   "id": "20766f9f",
   "metadata": {
    "scrolled": true
   },
   "outputs": [
    {
     "name": "stdout",
     "output_type": "stream",
     "text": [
      "torch.Size([1, 1, 8])\n"
     ]
    }
   ],
   "source": [
    "print(_status.shape)"
   ]
  },
  {
   "cell_type": "markdown",
   "id": "9c6c55b1",
   "metadata": {},
   "source": [
    "## 4. 깊은 순환 신경망 (Deep Recurrent Neural Network)"
   ]
  },
  {
   "cell_type": "code",
   "execution_count": 15,
   "id": "8a9e6166",
   "metadata": {},
   "outputs": [],
   "source": [
    "inputs = torch.Tensor(1, 10, 5)"
   ]
  },
  {
   "cell_type": "code",
   "execution_count": 16,
   "id": "c31cd448",
   "metadata": {},
   "outputs": [],
   "source": [
    "cell = nn.RNN(input_size=5, hidden_size=8, num_layers=2, batch_first=True)"
   ]
  },
  {
   "cell_type": "code",
   "execution_count": 17,
   "id": "f74ce603",
   "metadata": {},
   "outputs": [],
   "source": [
    "outputs, _status = cell(inputs)"
   ]
  },
  {
   "cell_type": "code",
   "execution_count": 18,
   "id": "137cb1a8",
   "metadata": {},
   "outputs": [
    {
     "name": "stdout",
     "output_type": "stream",
     "text": [
      "torch.Size([1, 10, 8])\n"
     ]
    }
   ],
   "source": [
    "print(outputs.shape)"
   ]
  },
  {
   "cell_type": "code",
   "execution_count": 19,
   "id": "719dcc43",
   "metadata": {},
   "outputs": [
    {
     "name": "stdout",
     "output_type": "stream",
     "text": [
      "torch.Size([2, 1, 8])\n"
     ]
    }
   ],
   "source": [
    "print(_status.shape)"
   ]
  },
  {
   "cell_type": "markdown",
   "id": "268f8775",
   "metadata": {},
   "source": [
    "## 5. 양방향 순환 신경망 (Bidirectional Recurrent Neural Network)"
   ]
  },
  {
   "cell_type": "markdown",
   "id": "00390f01",
   "metadata": {},
   "source": [
    "* '양방향 순환 신경망(Bidirectional Recurrent Neural Network)'은 앞&뒤 시점을 모두 고려한 RNN 모델임."
   ]
  },
  {
   "cell_type": "code",
   "execution_count": 20,
   "id": "fa8af88b",
   "metadata": {},
   "outputs": [],
   "source": [
    "inputs = torch.Tensor(1, 10, 5)"
   ]
  },
  {
   "cell_type": "code",
   "execution_count": 21,
   "id": "c4b32c84",
   "metadata": {},
   "outputs": [],
   "source": [
    "cell = nn.RNN(input_size=5, hidden_size=8, num_layers=2, batch_first=True, bidirectional=True)"
   ]
  },
  {
   "cell_type": "code",
   "execution_count": 22,
   "id": "bc410486",
   "metadata": {},
   "outputs": [],
   "source": [
    "outputs, _status = cell(inputs)"
   ]
  },
  {
   "cell_type": "code",
   "execution_count": 23,
   "id": "f612d19c",
   "metadata": {},
   "outputs": [
    {
     "name": "stdout",
     "output_type": "stream",
     "text": [
      "torch.Size([1, 10, 16])\n"
     ]
    }
   ],
   "source": [
    "print(outputs.shape)"
   ]
  },
  {
   "cell_type": "code",
   "execution_count": 24,
   "id": "5944d810",
   "metadata": {},
   "outputs": [
    {
     "name": "stdout",
     "output_type": "stream",
     "text": [
      "torch.Size([4, 1, 8])\n"
     ]
    }
   ],
   "source": [
    "print(_status.shape)"
   ]
  }
 ],
 "metadata": {
  "kernelspec": {
   "display_name": "Python 3 (ipykernel)",
   "language": "python",
   "name": "python3"
  },
  "language_info": {
   "codemirror_mode": {
    "name": "ipython",
    "version": 3
   },
   "file_extension": ".py",
   "mimetype": "text/x-python",
   "name": "python",
   "nbconvert_exporter": "python",
   "pygments_lexer": "ipython3",
   "version": "3.9.7"
  }
 },
 "nbformat": 4,
 "nbformat_minor": 5
}
