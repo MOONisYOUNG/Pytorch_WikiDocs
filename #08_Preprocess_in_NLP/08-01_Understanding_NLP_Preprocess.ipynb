{
 "cells": [
  {
   "cell_type": "markdown",
   "id": "7a30b804",
   "metadata": {},
   "source": [
    "## 👉 08-01. 자연어 처리 전처리 이해하기"
   ]
  },
  {
   "cell_type": "markdown",
   "id": "fb490709",
   "metadata": {},
   "source": [
    "## 1. 토큰화 (Tokenization)"
   ]
  },
  {
   "cell_type": "code",
   "execution_count": 1,
   "id": "c7c1c1a7",
   "metadata": {},
   "outputs": [],
   "source": [
    "en_text = \"A Dog Run back corner near spare bedrooms\""
   ]
  },
  {
   "cell_type": "markdown",
   "id": "717ce911",
   "metadata": {},
   "source": [
    "### (1) spaCy 사용하기"
   ]
  },
  {
   "cell_type": "markdown",
   "id": "cd643a79",
   "metadata": {},
   "source": [
    "* 'spaCy' is an open-source software library for advanced natural language processing, written in the programming languages Python and Cython.\n",
    "* Unlike NLTK, which is widely used for teaching and research, spaCy focuses on providing software for production usage.\n",
    "* 출처 : https://en.wikipedia.org/wiki/SpaCy"
   ]
  },
  {
   "cell_type": "code",
   "execution_count": 2,
   "id": "131c4006",
   "metadata": {},
   "outputs": [],
   "source": [
    "import spacy\n",
    "spacy_en = spacy.load('en_core_web_sm')"
   ]
  },
  {
   "cell_type": "code",
   "execution_count": 3,
   "id": "15977f88",
   "metadata": {},
   "outputs": [],
   "source": [
    "def tokenize(en_text):\n",
    "    return [tok.text for tok in spacy_en.tokenizer(en_text)]"
   ]
  },
  {
   "cell_type": "code",
   "execution_count": 4,
   "id": "d65a520d",
   "metadata": {},
   "outputs": [
    {
     "name": "stdout",
     "output_type": "stream",
     "text": [
      "['A', 'Dog', 'Run', 'back', 'corner', 'near', 'spare', 'bedrooms']\n"
     ]
    }
   ],
   "source": [
    "print(tokenize(en_text))"
   ]
  },
  {
   "cell_type": "markdown",
   "id": "97744279",
   "metadata": {},
   "source": [
    "### (2) NLTK 사용하기"
   ]
  },
  {
   "cell_type": "markdown",
   "id": "7a098d18",
   "metadata": {},
   "source": [
    "* The Natural Language Toolkit, or more commonly NLTK, is a suite of libraries and programs for symbolic and statistical natural language processing (NLP) for English written in the Python programming language. \n",
    "* It supports classification, tokenization, stemming, tagging, parsing, and semantic reasoning functionalities.\n",
    "* 출처 : https://en.wikipedia.org/wiki/Natural_Language_Toolkit"
   ]
  },
  {
   "cell_type": "code",
   "execution_count": 5,
   "id": "5a51b35f",
   "metadata": {},
   "outputs": [],
   "source": [
    "import nltk\n",
    "from nltk.tokenize import word_tokenize"
   ]
  },
  {
   "cell_type": "code",
   "execution_count": 6,
   "id": "0331ab2a",
   "metadata": {},
   "outputs": [
    {
     "name": "stdout",
     "output_type": "stream",
     "text": [
      "['A', 'Dog', 'Run', 'back', 'corner', 'near', 'spare', 'bedrooms']\n"
     ]
    }
   ],
   "source": [
    "print(word_tokenize(en_text))"
   ]
  },
  {
   "cell_type": "markdown",
   "id": "be557116",
   "metadata": {},
   "source": [
    "### (3) 띄어쓰기로 토큰화"
   ]
  },
  {
   "cell_type": "code",
   "execution_count": 7,
   "id": "b6796719",
   "metadata": {
    "scrolled": true
   },
   "outputs": [
    {
     "name": "stdout",
     "output_type": "stream",
     "text": [
      "['A', 'Dog', 'Run', 'back', 'corner', 'near', 'spare', 'bedrooms']\n"
     ]
    }
   ],
   "source": [
    "print(en_text.split())"
   ]
  },
  {
   "cell_type": "markdown",
   "id": "4f0f3431",
   "metadata": {},
   "source": [
    "### (4) 한국어 띄어쓰기 토큰화"
   ]
  },
  {
   "cell_type": "code",
   "execution_count": 8,
   "id": "9ed77c89",
   "metadata": {},
   "outputs": [],
   "source": [
    "kor_text = \"사과의 놀라운 효능이라는 글을 봤어. \\\n",
    "그래서 오늘 사과를 먹으려고 했는데 사과가 썩어서 \\\n",
    "슈퍼에 가서 사과랑 오렌지 사왔어\""
   ]
  },
  {
   "cell_type": "code",
   "execution_count": 9,
   "id": "9e1b31e6",
   "metadata": {
    "scrolled": true
   },
   "outputs": [
    {
     "name": "stdout",
     "output_type": "stream",
     "text": [
      "['사과의', '놀라운', '효능이라는', '글을', '봤어.', '그래서', '오늘', '사과를', '먹으려고', '했는데', '사과가', '썩어서', '슈퍼에', '가서', '사과랑', '오렌지', '사왔어']\n"
     ]
    }
   ],
   "source": [
    "print(kor_text.split())"
   ]
  },
  {
   "cell_type": "markdown",
   "id": "e015c104",
   "metadata": {},
   "source": [
    "### (5) 형태소 토큰화"
   ]
  },
  {
   "cell_type": "code",
   "execution_count": 10,
   "id": "a9723603",
   "metadata": {},
   "outputs": [],
   "source": [
    "# mekab 대신에 konlpy에서 기본 지급하는 Kkma를 사용함.\n",
    "from konlpy.tag import Kkma"
   ]
  },
  {
   "cell_type": "code",
   "execution_count": 11,
   "id": "136f8bab",
   "metadata": {
    "scrolled": true
   },
   "outputs": [
    {
     "name": "stdout",
     "output_type": "stream",
     "text": [
      "['사과', '의', '놀랍', 'ㄴ', '효능', '이', '라는', '글', '을', '보', '았', '어', '.', '그래서', '오늘', '사과', '를', '먹', '으려고', '하', '었', '는데', '사과', '가', '썩', '어서', '슈퍼', '에', '가', '아서', '사과', '랑', '오렌지', '사', '아', '오', '았', '어']\n"
     ]
    }
   ],
   "source": [
    "tokenizer = Kkma()\n",
    "print(tokenizer.morphs(kor_text))"
   ]
  },
  {
   "cell_type": "markdown",
   "id": "f3189413",
   "metadata": {},
   "source": [
    "### (6) 문자 토큰화"
   ]
  },
  {
   "cell_type": "code",
   "execution_count": 12,
   "id": "d21cd6cf",
   "metadata": {},
   "outputs": [
    {
     "name": "stdout",
     "output_type": "stream",
     "text": [
      "['A', ' ', 'D', 'o', 'g', ' ', 'R', 'u', 'n', ' ', 'b', 'a', 'c', 'k', ' ', 'c', 'o', 'r', 'n', 'e', 'r', ' ', 'n', 'e', 'a', 'r', ' ', 's', 'p', 'a', 'r', 'e', ' ', 'b', 'e', 'd', 'r', 'o', 'o', 'm', 's']\n"
     ]
    }
   ],
   "source": [
    "print(list(en_text))"
   ]
  },
  {
   "cell_type": "markdown",
   "id": "82eeb6b2",
   "metadata": {},
   "source": [
    "## 2. 단어 집합(Vocabulary) 생성"
   ]
  },
  {
   "cell_type": "code",
   "execution_count": 13,
   "id": "538e30e6",
   "metadata": {},
   "outputs": [],
   "source": [
    "import urllib.request\n",
    "import pandas as pd\n",
    "from konlpy.tag import Kkma\n",
    "from nltk import FreqDist\n",
    "import numpy as np\n",
    "import matplotlib.pyplot as plt"
   ]
  },
  {
   "cell_type": "code",
   "execution_count": 14,
   "id": "6a3b4dc7",
   "metadata": {},
   "outputs": [
    {
     "data": {
      "text/plain": [
       "('ratings.txt', <http.client.HTTPMessage at 0x26fa8c396c0>)"
      ]
     },
     "execution_count": 14,
     "metadata": {},
     "output_type": "execute_result"
    }
   ],
   "source": [
    "urllib.request.urlretrieve(\"https://raw.githubusercontent.com/e9t/nsmc/master/ratings.txt\", filename=\"ratings.txt\")"
   ]
  },
  {
   "cell_type": "code",
   "execution_count": 15,
   "id": "3e35e660",
   "metadata": {},
   "outputs": [
    {
     "data": {
      "text/html": [
       "<div>\n",
       "<style scoped>\n",
       "    .dataframe tbody tr th:only-of-type {\n",
       "        vertical-align: middle;\n",
       "    }\n",
       "\n",
       "    .dataframe tbody tr th {\n",
       "        vertical-align: top;\n",
       "    }\n",
       "\n",
       "    .dataframe thead th {\n",
       "        text-align: right;\n",
       "    }\n",
       "</style>\n",
       "<table border=\"1\" class=\"dataframe\">\n",
       "  <thead>\n",
       "    <tr style=\"text-align: right;\">\n",
       "      <th></th>\n",
       "      <th>id</th>\n",
       "      <th>document</th>\n",
       "      <th>label</th>\n",
       "    </tr>\n",
       "  </thead>\n",
       "  <tbody>\n",
       "    <tr>\n",
       "      <th>0</th>\n",
       "      <td>8112052</td>\n",
       "      <td>어릴때보고 지금다시봐도 재밌어요ㅋㅋ</td>\n",
       "      <td>1</td>\n",
       "    </tr>\n",
       "    <tr>\n",
       "      <th>1</th>\n",
       "      <td>8132799</td>\n",
       "      <td>디자인을 배우는 학생으로, 외국디자이너와 그들이 일군 전통을 통해 발전해가는 문화산...</td>\n",
       "      <td>1</td>\n",
       "    </tr>\n",
       "    <tr>\n",
       "      <th>2</th>\n",
       "      <td>4655635</td>\n",
       "      <td>폴리스스토리 시리즈는 1부터 뉴까지 버릴께 하나도 없음.. 최고.</td>\n",
       "      <td>1</td>\n",
       "    </tr>\n",
       "    <tr>\n",
       "      <th>3</th>\n",
       "      <td>9251303</td>\n",
       "      <td>와.. 연기가 진짜 개쩔구나.. 지루할거라고 생각했는데 몰입해서 봤다.. 그래 이런...</td>\n",
       "      <td>1</td>\n",
       "    </tr>\n",
       "    <tr>\n",
       "      <th>4</th>\n",
       "      <td>10067386</td>\n",
       "      <td>안개 자욱한 밤하늘에 떠 있는 초승달 같은 영화.</td>\n",
       "      <td>1</td>\n",
       "    </tr>\n",
       "    <tr>\n",
       "      <th>5</th>\n",
       "      <td>2190435</td>\n",
       "      <td>사랑을 해본사람이라면 처음부터 끝까지 웃을수 있는영화</td>\n",
       "      <td>1</td>\n",
       "    </tr>\n",
       "    <tr>\n",
       "      <th>6</th>\n",
       "      <td>9279041</td>\n",
       "      <td>완전 감동입니다 다시봐도 감동</td>\n",
       "      <td>1</td>\n",
       "    </tr>\n",
       "    <tr>\n",
       "      <th>7</th>\n",
       "      <td>7865729</td>\n",
       "      <td>개들의 전쟁2 나오나요? 나오면 1빠로 보고 싶음</td>\n",
       "      <td>1</td>\n",
       "    </tr>\n",
       "    <tr>\n",
       "      <th>8</th>\n",
       "      <td>7477618</td>\n",
       "      <td>굿</td>\n",
       "      <td>1</td>\n",
       "    </tr>\n",
       "    <tr>\n",
       "      <th>9</th>\n",
       "      <td>9250537</td>\n",
       "      <td>바보가 아니라 병 쉰 인듯</td>\n",
       "      <td>1</td>\n",
       "    </tr>\n",
       "  </tbody>\n",
       "</table>\n",
       "</div>"
      ],
      "text/plain": [
       "         id                                           document  label\n",
       "0   8112052                                어릴때보고 지금다시봐도 재밌어요ㅋㅋ      1\n",
       "1   8132799  디자인을 배우는 학생으로, 외국디자이너와 그들이 일군 전통을 통해 발전해가는 문화산...      1\n",
       "2   4655635               폴리스스토리 시리즈는 1부터 뉴까지 버릴께 하나도 없음.. 최고.      1\n",
       "3   9251303  와.. 연기가 진짜 개쩔구나.. 지루할거라고 생각했는데 몰입해서 봤다.. 그래 이런...      1\n",
       "4  10067386                        안개 자욱한 밤하늘에 떠 있는 초승달 같은 영화.      1\n",
       "5   2190435                      사랑을 해본사람이라면 처음부터 끝까지 웃을수 있는영화      1\n",
       "6   9279041                                   완전 감동입니다 다시봐도 감동      1\n",
       "7   7865729                        개들의 전쟁2 나오나요? 나오면 1빠로 보고 싶음      1\n",
       "8   7477618                                                  굿      1\n",
       "9   9250537                                     바보가 아니라 병 쉰 인듯      1"
      ]
     },
     "execution_count": 15,
     "metadata": {},
     "output_type": "execute_result"
    }
   ],
   "source": [
    "data = pd.read_table('ratings.txt')\n",
    "data[:10]"
   ]
  },
  {
   "cell_type": "code",
   "execution_count": 16,
   "id": "5125dda2",
   "metadata": {},
   "outputs": [
    {
     "name": "stdout",
     "output_type": "stream",
     "text": [
      "전체 샘플의 수 : 200000\n"
     ]
    }
   ],
   "source": [
    "print(\"전체 샘플의 수 : {}\".format(len(data)))"
   ]
  },
  {
   "cell_type": "code",
   "execution_count": 17,
   "id": "f75de035",
   "metadata": {},
   "outputs": [],
   "source": [
    "sample_data = data[:100]"
   ]
  },
  {
   "cell_type": "code",
   "execution_count": 18,
   "id": "cd07226f",
   "metadata": {},
   "outputs": [
    {
     "name": "stderr",
     "output_type": "stream",
     "text": [
      "C:\\Users\\Family\\AppData\\Local\\Temp\\ipykernel_32396\\1156025829.py:1: FutureWarning: The default value of regex will change from True to False in a future version.\n",
      "  sample_data[\"document\"] = sample_data[\"document\"].str.replace(\"[^ㄱ-ㅎㅏ-ㅣ가-힣 ]\", \"\")\n",
      "C:\\Users\\Family\\AppData\\Local\\Temp\\ipykernel_32396\\1156025829.py:1: SettingWithCopyWarning: \n",
      "A value is trying to be set on a copy of a slice from a DataFrame.\n",
      "Try using .loc[row_indexer,col_indexer] = value instead\n",
      "\n",
      "See the caveats in the documentation: https://pandas.pydata.org/pandas-docs/stable/user_guide/indexing.html#returning-a-view-versus-a-copy\n",
      "  sample_data[\"document\"] = sample_data[\"document\"].str.replace(\"[^ㄱ-ㅎㅏ-ㅣ가-힣 ]\", \"\")\n"
     ]
    },
    {
     "data": {
      "text/html": [
       "<div>\n",
       "<style scoped>\n",
       "    .dataframe tbody tr th:only-of-type {\n",
       "        vertical-align: middle;\n",
       "    }\n",
       "\n",
       "    .dataframe tbody tr th {\n",
       "        vertical-align: top;\n",
       "    }\n",
       "\n",
       "    .dataframe thead th {\n",
       "        text-align: right;\n",
       "    }\n",
       "</style>\n",
       "<table border=\"1\" class=\"dataframe\">\n",
       "  <thead>\n",
       "    <tr style=\"text-align: right;\">\n",
       "      <th></th>\n",
       "      <th>id</th>\n",
       "      <th>document</th>\n",
       "      <th>label</th>\n",
       "    </tr>\n",
       "  </thead>\n",
       "  <tbody>\n",
       "    <tr>\n",
       "      <th>0</th>\n",
       "      <td>8112052</td>\n",
       "      <td>어릴때보고 지금다시봐도 재밌어요ㅋㅋ</td>\n",
       "      <td>1</td>\n",
       "    </tr>\n",
       "    <tr>\n",
       "      <th>1</th>\n",
       "      <td>8132799</td>\n",
       "      <td>디자인을 배우는 학생으로 외국디자이너와 그들이 일군 전통을 통해 발전해가는 문화산업...</td>\n",
       "      <td>1</td>\n",
       "    </tr>\n",
       "    <tr>\n",
       "      <th>2</th>\n",
       "      <td>4655635</td>\n",
       "      <td>폴리스스토리 시리즈는 부터 뉴까지 버릴께 하나도 없음 최고</td>\n",
       "      <td>1</td>\n",
       "    </tr>\n",
       "    <tr>\n",
       "      <th>3</th>\n",
       "      <td>9251303</td>\n",
       "      <td>와 연기가 진짜 개쩔구나 지루할거라고 생각했는데 몰입해서 봤다 그래 이런게 진짜 영화지</td>\n",
       "      <td>1</td>\n",
       "    </tr>\n",
       "    <tr>\n",
       "      <th>4</th>\n",
       "      <td>10067386</td>\n",
       "      <td>안개 자욱한 밤하늘에 떠 있는 초승달 같은 영화</td>\n",
       "      <td>1</td>\n",
       "    </tr>\n",
       "    <tr>\n",
       "      <th>...</th>\n",
       "      <td>...</td>\n",
       "      <td>...</td>\n",
       "      <td>...</td>\n",
       "    </tr>\n",
       "    <tr>\n",
       "      <th>95</th>\n",
       "      <td>3908729</td>\n",
       "      <td>진짜 최고다 최고 성룡형님 마이 우상</td>\n",
       "      <td>1</td>\n",
       "    </tr>\n",
       "    <tr>\n",
       "      <th>96</th>\n",
       "      <td>6318878</td>\n",
       "      <td>당신이 좋아하는 장르는 뭐요 이영화에도 저영화에도 이런장르는 싫다니원</td>\n",
       "      <td>1</td>\n",
       "    </tr>\n",
       "    <tr>\n",
       "      <th>97</th>\n",
       "      <td>2620222</td>\n",
       "      <td>지금까지 본영화중에 최고다</td>\n",
       "      <td>1</td>\n",
       "    </tr>\n",
       "    <tr>\n",
       "      <th>98</th>\n",
       "      <td>5954450</td>\n",
       "      <td>매회리타가자꾸거슬려서죽었으면좋겠다고생각했는데ㅠㅠ죄책감에나도잠못이룬다</td>\n",
       "      <td>1</td>\n",
       "    </tr>\n",
       "    <tr>\n",
       "      <th>99</th>\n",
       "      <td>9754970</td>\n",
       "      <td>어릴 때보고 커서 다시 봤는데 진짜 잘 만든 영화였네 웃음과 감동을 잘 이어 붙였고...</td>\n",
       "      <td>1</td>\n",
       "    </tr>\n",
       "  </tbody>\n",
       "</table>\n",
       "<p>100 rows × 3 columns</p>\n",
       "</div>"
      ],
      "text/plain": [
       "          id                                           document  label\n",
       "0    8112052                                어릴때보고 지금다시봐도 재밌어요ㅋㅋ      1\n",
       "1    8132799  디자인을 배우는 학생으로 외국디자이너와 그들이 일군 전통을 통해 발전해가는 문화산업...      1\n",
       "2    4655635                   폴리스스토리 시리즈는 부터 뉴까지 버릴께 하나도 없음 최고      1\n",
       "3    9251303   와 연기가 진짜 개쩔구나 지루할거라고 생각했는데 몰입해서 봤다 그래 이런게 진짜 영화지      1\n",
       "4   10067386                         안개 자욱한 밤하늘에 떠 있는 초승달 같은 영화      1\n",
       "..       ...                                                ...    ...\n",
       "95   3908729                               진짜 최고다 최고 성룡형님 마이 우상      1\n",
       "96   6318878             당신이 좋아하는 장르는 뭐요 이영화에도 저영화에도 이런장르는 싫다니원      1\n",
       "97   2620222                                     지금까지 본영화중에 최고다      1\n",
       "98   5954450              매회리타가자꾸거슬려서죽었으면좋겠다고생각했는데ㅠㅠ죄책감에나도잠못이룬다      1\n",
       "99   9754970  어릴 때보고 커서 다시 봤는데 진짜 잘 만든 영화였네 웃음과 감동을 잘 이어 붙였고...      1\n",
       "\n",
       "[100 rows x 3 columns]"
      ]
     },
     "execution_count": 18,
     "metadata": {},
     "output_type": "execute_result"
    }
   ],
   "source": [
    "sample_data[\"document\"] = sample_data[\"document\"].str.replace(\"[^ㄱ-ㅎㅏ-ㅣ가-힣 ]\", \"\")\n",
    "sample_data"
   ]
  },
  {
   "cell_type": "code",
   "execution_count": 19,
   "id": "ef6edd25",
   "metadata": {},
   "outputs": [],
   "source": [
    "stopwords=['의', '가', '이', '은', '들', '는', '좀', '잘', '걍', '과', '도', \n",
    "           '를', '으로', '자', '에', '와', '한', '하다']"
   ]
  },
  {
   "cell_type": "code",
   "execution_count": 20,
   "id": "e97f5cea",
   "metadata": {},
   "outputs": [],
   "source": [
    "tokenizer = Kkma()\n",
    "tokenized = []\n",
    "for sentence in sample_data[\"document\"]:\n",
    "    temp = tokenizer.morphs(sentence)\n",
    "    temp = [word for word in temp if not word in stopwords]\n",
    "    tokenized.append(temp)"
   ]
  },
  {
   "cell_type": "code",
   "execution_count": 21,
   "id": "9099b113",
   "metadata": {},
   "outputs": [
    {
     "name": "stdout",
     "output_type": "stream",
     "text": [
      "[['어리', 'ㄹ', '때', '보고', '지금', '다시', '보', '아도', '재밌', '어요', 'ㅋㅋ'], ['디자인', '을', '배우', '학생', '외국', '디자이너', '그', '일구', 'ㄴ', '전통', '을', '통하', '어', '발전', '하', '어', '갈', '문화', '산업', '부럽', '었', '는데', '사실', '우리나라', '에서', '그', '어렵', 'ㄴ', '시절', '끝', '까지', '열정', '을', '지키', 'ㄴ', '노', '라', '노', '같', '전통', '있', '어', '저', '같', '사람', '꿈', '을', '꾸', '고', '이루', '어', '나가', 'ㄹ', '수', '있', '다는', '것', '감사', '하', 'ㅂ니다'], ['폴리스', '스토리', '시리즈', '부', '터', '뉴', '까', '지', '버리', 'ㄹ게', '하나', '없', '음', '최고'], ['오', '아', '연기', '진짜', '개', '쩔', '구', '나', '아', '지루', '하', 'ㄹ', '거', '라고', '생각', '하', '었', '는데', '몰입', '하', '어서', '보', '았', '다', '그리하', '여', '이렇', 'ㄴ', '것', '진짜', '영화', '짓'], ['안개', '자욱', '하', 'ㄴ', '밤하늘', '뜨', '어', '있', '초승달', '같', '영화'], ['사랑', '을', '해보', 'ㄴ', '사람', '라면', '처음', '부터', '끝', '까지', '웃', '을', '수', '있', '영화'], ['완전', '감동', 'ㅂ니다', '다시', '보', '아도', '감동'], ['개', '전쟁', '나오', '나요', '나오', '면', '빠로', '보', '고', '싶', '음'], ['굿'], ['바보', '아니', '라', '병', '쉰', 'ㄴ', '듯']]\n"
     ]
    }
   ],
   "source": [
    "print(tokenized[:10])"
   ]
  },
  {
   "cell_type": "code",
   "execution_count": 22,
   "id": "ee784535",
   "metadata": {},
   "outputs": [
    {
     "name": "stdout",
     "output_type": "stream",
     "text": [
      "단어 집합의 크기 : 671\n"
     ]
    }
   ],
   "source": [
    "vocab = FreqDist(np.hstack(tokenized))\n",
    "print(\"단어 집합의 크기 : {}\".format(len(vocab)))"
   ]
  },
  {
   "cell_type": "code",
   "execution_count": 23,
   "id": "84983bee",
   "metadata": {},
   "outputs": [
    {
     "data": {
      "text/plain": [
       "9"
      ]
     },
     "execution_count": 23,
     "metadata": {},
     "output_type": "execute_result"
    }
   ],
   "source": [
    "vocab[\"재밌\"]"
   ]
  },
  {
   "cell_type": "code",
   "execution_count": 24,
   "id": "22b097d1",
   "metadata": {},
   "outputs": [
    {
     "name": "stdout",
     "output_type": "stream",
     "text": [
      "단어 집합의 크기 : 500\n"
     ]
    }
   ],
   "source": [
    "vocab_size = 500\n",
    "vocab = vocab.most_common(vocab_size)\n",
    "print(\"단어 집합의 크기 : {}\".format(len(vocab)))"
   ]
  },
  {
   "cell_type": "markdown",
   "id": "acd2fc95",
   "metadata": {},
   "source": [
    "## 3. 각 단어에 고유한 정수 부여"
   ]
  },
  {
   "cell_type": "code",
   "execution_count": 25,
   "id": "0adb0ae4",
   "metadata": {},
   "outputs": [],
   "source": [
    "word_to_index = {word[0] : index+2 for index, word in enumerate(vocab)}\n",
    "word_to_index[\"pad\"] = 1\n",
    "word_to_index[\"unk\"] = 0"
   ]
  },
  {
   "cell_type": "code",
   "execution_count": 26,
   "id": "430b3f86",
   "metadata": {},
   "outputs": [],
   "source": [
    "encoded = []\n",
    "for line in tokenized:\n",
    "    temp = []\n",
    "    for w in line:\n",
    "        try:\n",
    "            temp.append(word_to_index[w])\n",
    "        except KeyError:\n",
    "            temp.append(word_to_index[\"unk\"])\n",
    "            \n",
    "    encoded.append(temp)"
   ]
  },
  {
   "cell_type": "code",
   "execution_count": 27,
   "id": "353a69ea",
   "metadata": {},
   "outputs": [
    {
     "name": "stdout",
     "output_type": "stream",
     "text": [
      "[[50, 8, 31, 118, 51, 38, 5, 65, 22, 23, 52], [201, 10, 85, 202, 203, 204, 53, 205, 3, 119, 10, 206, 11, 207, 2, 11, 120, 121, 208, 209, 6, 18, 66, 122, 32, 53, 210, 3, 123, 124, 54, 211, 10, 212, 3, 125, 39, 125, 20, 119, 12, 11, 40, 20, 41, 213, 10, 214, 9, 126, 11, 215, 8, 19, 12, 86, 15, 216, 2, 67], [217, 127, 218, 219, 128, 220, 129, 42, 221, 222, 87, 16, 28, 17], [68, 24, 43, 33, 130, 223, 88, 25, 24, 224, 2, 8, 44, 69, 34, 2, 6, 18, 225, 2, 35, 5, 13, 4, 226, 70, 227, 3, 15, 33, 7, 89], [228, 229, 2, 3, 230, 231, 11, 12, 232, 20, 7], [131, 10, 233, 3, 41, 132, 133, 71, 124, 54, 134, 10, 19, 12, 7], [135, 55, 67, 38, 5, 65, 55], [130, 234, 36, 235, 36, 72, 236, 5, 9, 45, 28], [56], [237, 90, 39, 238, 239, 3, 136]]\n"
     ]
    }
   ],
   "source": [
    "print(encoded[:10])"
   ]
  },
  {
   "cell_type": "markdown",
   "id": "9f7aaecc",
   "metadata": {},
   "source": [
    "## 4. 길이가 다른 문장들을 모두 동일한 길이로 바꿔주는 패딩(padding)"
   ]
  },
  {
   "cell_type": "code",
   "execution_count": 28,
   "id": "6afbe739",
   "metadata": {},
   "outputs": [
    {
     "name": "stdout",
     "output_type": "stream",
     "text": [
      "리뷰의 최대 길이 : 70\n",
      "리뷰의 최소 길이 : 1\n",
      "리뷰의 평균 길이 : 15.910000\n"
     ]
    },
    {
     "data": {
      "image/png": "[encoded data removed]",
      "text/plain": [
       "<Figure size 640x480 with 1 Axes>"
      ]
     },
     "metadata": {},
     "output_type": "display_data"
    }
   ],
   "source": [
    "max_len = max(len(l) for l in encoded)\n",
    "print(\"리뷰의 최대 길이 : %d\" % max_len)\n",
    "print(\"리뷰의 최소 길이 : %d\" % min(len(l) for l in encoded))\n",
    "print(\"리뷰의 평균 길이 : %f\" % (sum(map(len, encoded))/len(encoded)))\n",
    "plt.hist([len(s) for s in encoded], bins=50)\n",
    "plt.xlabel(\"length of sample\")\n",
    "plt.ylabel(\"number of sample\")\n",
    "plt.show()"
   ]
  },
  {
   "cell_type": "code",
   "execution_count": 29,
   "id": "48cb079a",
   "metadata": {},
   "outputs": [],
   "source": [
    "for line in encoded:\n",
    "    if len(line) < max_len:\n",
    "        line += [word_to_index[\"pad\"]] * (max_len - len(line))"
   ]
  },
  {
   "cell_type": "code",
   "execution_count": 30,
   "id": "49810ea1",
   "metadata": {},
   "outputs": [
    {
     "name": "stdout",
     "output_type": "stream",
     "text": [
      "리뷰의 최대 길이 : 70\n",
      "리뷰의 최소 길이 : 70\n",
      "리뷰의 평균 길이 : 70.000000\n"
     ]
    }
   ],
   "source": [
    "print(\"리뷰의 최대 길이 : %d\" % max(len(l) for l in encoded))\n",
    "print(\"리뷰의 최소 길이 : %d\" % min(len(l) for l in encoded))\n",
    "print(\"리뷰의 평균 길이 : %f\" % (sum(map(len, encoded))/len(encoded)))"
   ]
  },
  {
   "cell_type": "code",
   "execution_count": 31,
   "id": "7a679ce0",
   "metadata": {},
   "outputs": [
    {
     "name": "stdout",
     "output_type": "stream",
     "text": [
      "[[50, 8, 31, 118, 51, 38, 5, 65, 22, 23, 52, 1, 1, 1, 1, 1, 1, 1, 1, 1, 1, 1, 1, 1, 1, 1, 1, 1, 1, 1, 1, 1, 1, 1, 1, 1, 1, 1, 1, 1, 1, 1, 1, 1, 1, 1, 1, 1, 1, 1, 1, 1, 1, 1, 1, 1, 1, 1, 1, 1, 1, 1, 1, 1, 1, 1, 1, 1, 1, 1], [201, 10, 85, 202, 203, 204, 53, 205, 3, 119, 10, 206, 11, 207, 2, 11, 120, 121, 208, 209, 6, 18, 66, 122, 32, 53, 210, 3, 123, 124, 54, 211, 10, 212, 3, 125, 39, 125, 20, 119, 12, 11, 40, 20, 41, 213, 10, 214, 9, 126, 11, 215, 8, 19, 12, 86, 15, 216, 2, 67, 1, 1, 1, 1, 1, 1, 1, 1, 1, 1], [217, 127, 218, 219, 128, 220, 129, 42, 221, 222, 87, 16, 28, 17, 1, 1, 1, 1, 1, 1, 1, 1, 1, 1, 1, 1, 1, 1, 1, 1, 1, 1, 1, 1, 1, 1, 1, 1, 1, 1, 1, 1, 1, 1, 1, 1, 1, 1, 1, 1, 1, 1, 1, 1, 1, 1, 1, 1, 1, 1, 1, 1, 1, 1, 1, 1, 1, 1, 1, 1]]\n"
     ]
    }
   ],
   "source": [
    "print(encoded[:3])"
   ]
  }
 ],
 "metadata": {
  "kernelspec": {
   "display_name": "Python 3 (ipykernel)",
   "language": "python",
   "name": "python3"
  },
  "language_info": {
   "codemirror_mode": {
    "name": "ipython",
    "version": 3
   },
   "file_extension": ".py",
   "mimetype": "text/x-python",
   "name": "python",
   "nbconvert_exporter": "python",
   "pygments_lexer": "ipython3",
   "version": "3.10.9"
  }
 },
 "nbformat": 4,
 "nbformat_minor": 5
}
