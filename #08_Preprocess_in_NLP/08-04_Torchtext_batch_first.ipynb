{
 "cells": [
  {
   "cell_type": "markdown",
   "id": "76978f38",
   "metadata": {},
   "source": [
    "## 👉08-04 토치텍스트(TorchText)의 batch_first"
   ]
  },
  {
   "cell_type": "markdown",
   "id": "484a0462",
   "metadata": {},
   "source": [
    "## 1. 훈련 데이터와 테스트 데이터로 분리하기"
   ]
  },
  {
   "cell_type": "code",
   "execution_count": 1,
   "id": "326965ac",
   "metadata": {},
   "outputs": [],
   "source": [
    "import urllib.request\n",
    "import pandas as pd"
   ]
  },
  {
   "cell_type": "code",
   "execution_count": 2,
   "id": "dab8f7e3",
   "metadata": {},
   "outputs": [
    {
     "data": {
      "text/plain": [
       "('IMDb_Reviews.csv', <http.client.HTTPMessage at 0x2fbc6c77970>)"
      ]
     },
     "execution_count": 2,
     "metadata": {},
     "output_type": "execute_result"
    }
   ],
   "source": [
    "urllib.request.urlretrieve(\"https://raw.githubusercontent.com/LawrenceDuan/IMDb-Review-Analysis/master/IMDb_Reviews.csv\", filename=\"IMDb_Reviews.csv\")"
   ]
  },
  {
   "cell_type": "code",
   "execution_count": 3,
   "id": "175935c5",
   "metadata": {},
   "outputs": [],
   "source": [
    "df = pd.read_csv(\"IMDb_Reviews.csv\", encoding=\"latin1\")"
   ]
  },
  {
   "cell_type": "code",
   "execution_count": 4,
   "id": "769de014",
   "metadata": {},
   "outputs": [
    {
     "name": "stdout",
     "output_type": "stream",
     "text": [
      "전체 샘플의 개수 : 50000\n"
     ]
    }
   ],
   "source": [
    "print(\"전체 샘플의 개수 : {}\".format(len(df)))"
   ]
  },
  {
   "cell_type": "code",
   "execution_count": 5,
   "id": "71c8dcf2",
   "metadata": {},
   "outputs": [],
   "source": [
    "train_df = df[:25000]\n",
    "test_df = df[25000:]"
   ]
  },
  {
   "cell_type": "code",
   "execution_count": 6,
   "id": "85b0d052",
   "metadata": {},
   "outputs": [],
   "source": [
    "train_df.to_csv(\"train_data.csv\", index=False)\n",
    "test_df.to_csv(\"test_data.csv\", index=False)"
   ]
  },
  {
   "cell_type": "markdown",
   "id": "f6f9380c",
   "metadata": {},
   "source": [
    "## 2. 필드 정의하기 (torchtext.legacy.data)"
   ]
  },
  {
   "cell_type": "code",
   "execution_count": 7,
   "id": "aa0be02d",
   "metadata": {},
   "outputs": [],
   "source": [
    "from torchtext.legacy import data"
   ]
  },
  {
   "cell_type": "code",
   "execution_count": 8,
   "id": "52369c02",
   "metadata": {},
   "outputs": [],
   "source": [
    "TEXT = data.Field(sequential=True,\n",
    "                 use_vocab=True,\n",
    "                 tokenize=str.split,\n",
    "                 lower=True,\n",
    "                 batch_first=True,\n",
    "                 fix_length=20)\n",
    "\n",
    "LABEL = data.Field(sequential=False,\n",
    "                  use_vocab=False,\n",
    "                  batch_first=False,\n",
    "                  is_target=True)"
   ]
  },
  {
   "cell_type": "markdown",
   "id": "ea5cf97c",
   "metadata": {},
   "source": [
    "## 3. 데이터셋 / 단어 집합 / 데이터로더 만들기"
   ]
  },
  {
   "cell_type": "code",
   "execution_count": 9,
   "id": "11913de2",
   "metadata": {},
   "outputs": [],
   "source": [
    "from torchtext.legacy.data import TabularDataset, Iterator"
   ]
  },
  {
   "cell_type": "code",
   "execution_count": 10,
   "id": "07002031",
   "metadata": {},
   "outputs": [],
   "source": [
    "train_data, test_data = TabularDataset.splits(path='.',\n",
    "                                             train=\"train_data.csv\",\n",
    "                                             test=\"test_data.csv\",\n",
    "                                             format=\"csv\",\n",
    "                                             fields=[(\"text\", TEXT), (\"label\", LABEL)],\n",
    "                                             skip_header=True)"
   ]
  },
  {
   "cell_type": "code",
   "execution_count": 11,
   "id": "6aeffe08",
   "metadata": {},
   "outputs": [],
   "source": [
    "TEXT.build_vocab(train_data, min_freq=10, max_size=10000)"
   ]
  },
  {
   "cell_type": "code",
   "execution_count": 12,
   "id": "80c86966",
   "metadata": {},
   "outputs": [],
   "source": [
    "batch_size = 5\n",
    "train_loader = Iterator(dataset=train_data, batch_size=batch_size)\n",
    "batch = next(iter(train_loader))"
   ]
  },
  {
   "cell_type": "code",
   "execution_count": 13,
   "id": "f0d58c8b",
   "metadata": {},
   "outputs": [
    {
     "name": "stdout",
     "output_type": "stream",
     "text": [
      "tensor([[   0,    0,   13,  776,    3,  349,    5,    0, 7280, 9725,    9,  260,\n",
      "           16,   10,  131,    6,  466,  207,   19,   38],\n",
      "        [1916,   35,   41,  124,   71,    3,  349,    5,    2,  238, 1218,   40,\n",
      "           53,   41,    3, 2675,   42,    2,  975,  133],\n",
      "        [  92, 1225,   62,  301,    0,    0,  807,    0,  394, 3514,    0,    0,\n",
      "         1192,   12,  239,   35,  307,    6,  301,    0],\n",
      "        [  10,    7,    3, 2633,   20,   12,    7,   38, 2995,   12,   55, 1846,\n",
      "         2954,    4,    9,  235,   11,    0,    2,  130],\n",
      "        [   9,  743, 2625,    4,   26,   99, 2382, 5646,   18,   50,   53,  332,\n",
      "            5,    2,  800,   12,  180,  327,    8,    0]])\n"
     ]
    }
   ],
   "source": [
    "print(batch.text)"
   ]
  },
  {
   "cell_type": "code",
   "execution_count": 14,
   "id": "5fd49781",
   "metadata": {},
   "outputs": [
    {
     "name": "stdout",
     "output_type": "stream",
     "text": [
      "torch.Size([5, 20])\n"
     ]
    }
   ],
   "source": [
    "print(batch.text.shape)"
   ]
  },
  {
   "cell_type": "markdown",
   "id": "84ca66d5",
   "metadata": {},
   "source": [
    "## 4. 필드 재정의하기 (torchtext.legacy.data)"
   ]
  },
  {
   "cell_type": "code",
   "execution_count": 15,
   "id": "f56d2aee",
   "metadata": {},
   "outputs": [],
   "source": [
    "TEXT = data.Field(sequential=True,\n",
    "                 use_vocab=True,\n",
    "                 tokenize=str.split,\n",
    "                 lower=True,\n",
    "                 fix_length=20)\n",
    "\n",
    "LABEL = data.Field(sequential=False,\n",
    "                  use_vocab=False,\n",
    "                  batch_first=False,\n",
    "                  is_target=True)"
   ]
  },
  {
   "cell_type": "code",
   "execution_count": 16,
   "id": "45953e8d",
   "metadata": {},
   "outputs": [],
   "source": [
    "train_data, test_data = TabularDataset.splits(path='.',\n",
    "                                             train=\"train_data.csv\",\n",
    "                                             test=\"test_data.csv\",\n",
    "                                             format=\"csv\",\n",
    "                                             fields=[(\"text\", TEXT), (\"label\", LABEL)],\n",
    "                                             skip_header=True)"
   ]
  },
  {
   "cell_type": "code",
   "execution_count": 17,
   "id": "30c6999b",
   "metadata": {},
   "outputs": [],
   "source": [
    "TEXT.build_vocab(train_data, min_freq=10, max_size=10000)"
   ]
  },
  {
   "cell_type": "code",
   "execution_count": 18,
   "id": "fa511554",
   "metadata": {},
   "outputs": [],
   "source": [
    "batch_size = 5\n",
    "train_loader = Iterator(dataset=train_data, batch_size=batch_size)\n",
    "batch = next(iter(train_loader))"
   ]
  },
  {
   "cell_type": "code",
   "execution_count": 19,
   "id": "b27d1df8",
   "metadata": {},
   "outputs": [
    {
     "name": "stdout",
     "output_type": "stream",
     "text": [
      "tensor([[   0, 1916,   92,   10,    9],\n",
      "        [   0,   35, 1225,    7,  743],\n",
      "        [  13,   41,   62,    3, 2625],\n",
      "        [ 776,  124,  301, 2633,    4],\n",
      "        [   3,   71,    0,   20,   26],\n",
      "        [ 349,    3,    0,   12,   99],\n",
      "        [   5,  349,  807,    7, 2382],\n",
      "        [   0,    5,    0,   38, 5646],\n",
      "        [7280,    2,  394, 2995,   18],\n",
      "        [9725,  238, 3514,   12,   50],\n",
      "        [   9, 1218,    0,   55,   53],\n",
      "        [ 260,   40,    0, 1846,  332],\n",
      "        [  16,   53, 1192, 2954,    5],\n",
      "        [  10,   41,   12,    4,    2],\n",
      "        [ 131,    3,  239,    9,  800],\n",
      "        [   6, 2675,   35,  235,   12],\n",
      "        [ 466,   42,  307,   11,  180],\n",
      "        [ 207,    2,    6,    0,  327],\n",
      "        [  19,  975,  301,    2,    8],\n",
      "        [  38,  133,    0,  130,    0]])\n"
     ]
    }
   ],
   "source": [
    "print(batch.text)"
   ]
  },
  {
   "cell_type": "code",
   "execution_count": 20,
   "id": "a960f1ae",
   "metadata": {},
   "outputs": [
    {
     "name": "stdout",
     "output_type": "stream",
     "text": [
      "torch.Size([20, 5])\n"
     ]
    }
   ],
   "source": [
    "print(batch.text.shape)"
   ]
  }
 ],
 "metadata": {
  "kernelspec": {
   "display_name": "Python 3 (ipykernel)",
   "language": "python",
   "name": "python3"
  },
  "language_info": {
   "codemirror_mode": {
    "name": "ipython",
    "version": 3
   },
   "file_extension": ".py",
   "mimetype": "text/x-python",
   "name": "python",
   "nbconvert_exporter": "python",
   "pygments_lexer": "ipython3",
   "version": "3.9.7"
  }
 },
 "nbformat": 4,
 "nbformat_minor": 5
}
